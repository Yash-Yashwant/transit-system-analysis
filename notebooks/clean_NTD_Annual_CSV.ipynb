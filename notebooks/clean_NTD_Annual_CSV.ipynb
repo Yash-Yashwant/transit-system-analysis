{
 "cells": [
  {
   "cell_type": "code",
   "execution_count": 1,
   "metadata": {},
   "outputs": [],
   "source": [
    "import pandas as pd\n",
    "import glob"
   ]
  },
  {
   "cell_type": "markdown",
   "metadata": {},
   "source": [
    "## Process 2022 Data"
   ]
  },
  {
   "cell_type": "code",
   "execution_count": 2,
   "metadata": {},
   "outputs": [],
   "source": [
    "raw_dat = pd.read_csv(\"../data dump/Capital Expenses_2022.csv\")"
   ]
  },
  {
   "cell_type": "code",
   "execution_count": 3,
   "metadata": {},
   "outputs": [
    {
     "name": "stdout",
     "output_type": "stream",
     "text": [
      "<class 'pandas.core.frame.DataFrame'>\n",
      "RangeIndex: 1859 entries, 0 to 1858\n",
      "Data columns (total 38 columns):\n",
      " #   Column                                            Non-Null Count  Dtype  \n",
      "---  ------                                            --------------  -----  \n",
      " 0   Agency                                            1859 non-null   object \n",
      " 1   City                                              1845 non-null   object \n",
      " 2   State                                             1859 non-null   object \n",
      " 3   NTD ID                                            1859 non-null   int64  \n",
      " 4   Organization Type                                 1859 non-null   object \n",
      " 5   Reporter Type                                     1859 non-null   object \n",
      " 6   Report Year                                       1859 non-null   int64  \n",
      " 7   UACE Code                                         1270 non-null   float64\n",
      " 8   UZA Name                                          1272 non-null   object \n",
      " 9   Primary UZA Population                            1270 non-null   object \n",
      " 10  Agency VOMS                                       1859 non-null   object \n",
      " 11  Mode                                              1859 non-null   object \n",
      " 12  Mode Name                                         1859 non-null   object \n",
      " 13  TOS                                               1859 non-null   object \n",
      " 14  Mode VOMS                                         1841 non-null   object \n",
      " 15  Capital Use Type                                  1859 non-null   object \n",
      " 16  Guideway                                          1859 non-null   object \n",
      " 17  Guideway Questionable                             0 non-null      float64\n",
      " 18  Stations                                          1859 non-null   object \n",
      " 19  Stations Questionable                             0 non-null      float64\n",
      " 20  Administrative Buildings                          1859 non-null   object \n",
      " 21  Administrative Buildings Questionable             0 non-null      float64\n",
      " 22  Maintenance Buildings                             1859 non-null   object \n",
      " 23  Maintenance Buildings Questionable                0 non-null      float64\n",
      " 24  Passenger Vehicles                                1859 non-null   object \n",
      " 25  Passenger Vehicles Questionable                   0 non-null      float64\n",
      " 26  Other Vehicles                                    1859 non-null   object \n",
      " 27  Other Vehicles Questionable                       0 non-null      float64\n",
      " 28  Fare Collection Equipment                         1859 non-null   object \n",
      " 29  Fare Collection Equipment Questionable            0 non-null      float64\n",
      " 30  Communication & Information Systems               1859 non-null   object \n",
      " 31  Communication & Information Systems Questionable  0 non-null      float64\n",
      " 32  Other                                             1859 non-null   object \n",
      " 33  Other Questionable                                0 non-null      float64\n",
      " 34  Reduced Reporter Expenses                         1859 non-null   object \n",
      " 35  Reduced Reporter Questionable                     0 non-null      float64\n",
      " 36  Total                                             1859 non-null   object \n",
      " 37  Total Questionable                                0 non-null      float64\n",
      "dtypes: float64(12), int64(2), object(24)\n",
      "memory usage: 552.0+ KB\n"
     ]
    }
   ],
   "source": [
    "raw_dat.info()"
   ]
  },
  {
   "cell_type": "code",
   "execution_count": 4,
   "metadata": {},
   "outputs": [],
   "source": [
    "# Remove all \"Questionable\" columns from the dataset.\n",
    "dat = raw_dat.drop(columns=raw_dat.columns[[\"Questionable\" in name for name in raw_dat.columns]])\n",
    "# Remove the \"reporter\" suffix from the entries in reporter type.\n",
    "dat['Reporter Type'] = [words[0] for words in (item.split() for item in raw_dat['Reporter Type'])]\n",
    "# Remove the \"Org Type\" column from the dataset.\n",
    "dat = dat.drop(columns=[\"Organization Type\"])\n",
    "# Remove the \"Reduced Reporter Expenses Column\" as it is a duplicate.\n",
    "dat = dat.drop(columns=[\"Reduced Reporter Expenses\"])\n",
    "# Remove columns that do not exist in older datasets.\n",
    "dat = dat.drop(columns=['UACE Code', 'UZA Name', 'Mode Name', 'Capital Use Type'])\n",
    "\n",
    "# Change datatypes on dollar and population columns to numeric.\n",
    "def to_num(col_name:str, dat_frame:pd.DataFrame) -> list:\n",
    "    return [num.replace(',', '') if type(num) == str else num for num in dat_frame[col_name]]\n",
    "\n",
    "for col in dat.columns[11:]:\n",
    "    dat[col] = to_num(col, dat)\n",
    "    dat = dat.astype({col: 'float64'})\n",
    "\n",
    "dat[\"Primary UZA Population\"] = to_num(\"Primary UZA Population\", dat)\n",
    "dat = dat.astype({\"Primary UZA Population\": 'float64'})"
   ]
  },
  {
   "cell_type": "code",
   "execution_count": 5,
   "metadata": {},
   "outputs": [
    {
     "name": "stdout",
     "output_type": "stream",
     "text": [
      "<class 'pandas.core.frame.DataFrame'>\n",
      "RangeIndex: 1859 entries, 0 to 1858\n",
      "Data columns (total 21 columns):\n",
      " #   Column                               Non-Null Count  Dtype  \n",
      "---  ------                               --------------  -----  \n",
      " 0   Agency                               1859 non-null   object \n",
      " 1   City                                 1845 non-null   object \n",
      " 2   State                                1859 non-null   object \n",
      " 3   NTD ID                               1859 non-null   int64  \n",
      " 4   Reporter Type                        1859 non-null   object \n",
      " 5   Report Year                          1859 non-null   int64  \n",
      " 6   Primary UZA Population               1270 non-null   float64\n",
      " 7   Agency VOMS                          1859 non-null   object \n",
      " 8   Mode                                 1859 non-null   object \n",
      " 9   TOS                                  1859 non-null   object \n",
      " 10  Mode VOMS                            1841 non-null   object \n",
      " 11  Guideway                             1859 non-null   float64\n",
      " 12  Stations                             1859 non-null   float64\n",
      " 13  Administrative Buildings             1859 non-null   float64\n",
      " 14  Maintenance Buildings                1859 non-null   float64\n",
      " 15  Passenger Vehicles                   1859 non-null   float64\n",
      " 16  Other Vehicles                       1859 non-null   float64\n",
      " 17  Fare Collection Equipment            1859 non-null   float64\n",
      " 18  Communication & Information Systems  1859 non-null   float64\n",
      " 19  Other                                1859 non-null   float64\n",
      " 20  Total                                1859 non-null   float64\n",
      "dtypes: float64(11), int64(2), object(8)\n",
      "memory usage: 305.1+ KB\n"
     ]
    }
   ],
   "source": [
    "# Is there a place where these column names are explained fully?\n",
    "# Yes. https://data.transportation.gov/Public-Transit/2022-NTD-Annual-Data-Capital-Expenses-by-Capital-U/fphd-jyyj/about_data\n",
    "dat.info()"
   ]
  },
  {
   "cell_type": "markdown",
   "metadata": {},
   "source": [
    "## Process 2016 - 2021 Data"
   ]
  },
  {
   "cell_type": "code",
   "execution_count": 6,
   "metadata": {},
   "outputs": [],
   "source": [
    "raw_21 = pd.read_excel(\"../data dump/Capital Expenses_2021.xlsx\", sheet_name='Total Capital Expenses by Mode')"
   ]
  },
  {
   "cell_type": "code",
   "execution_count": 7,
   "metadata": {},
   "outputs": [
    {
     "name": "stdout",
     "output_type": "stream",
     "text": [
      "<class 'pandas.core.frame.DataFrame'>\n",
      "RangeIndex: 3787 entries, 0 to 3786\n",
      "Data columns (total 38 columns):\n",
      " #   Column                                            Non-Null Count  Dtype  \n",
      "---  ------                                            --------------  -----  \n",
      " 0   Agency                                            3787 non-null   object \n",
      " 1   City                                              3763 non-null   object \n",
      " 2   State                                             3787 non-null   object \n",
      " 3   Legacy NTD ID                                     3428 non-null   object \n",
      " 4   NTD ID                                            3787 non-null   object \n",
      " 5   Organization Type                                 3787 non-null   object \n",
      " 6   Reporter Type                                     3787 non-null   object \n",
      " 7   Primary UZA Population                            3787 non-null   int64  \n",
      " 8   Agency \n",
      "VOMS                                      3787 non-null   int64  \n",
      " 9   Mode                                              3787 non-null   object \n",
      " 10  TOS                                               3787 non-null   object \n",
      " 11  Mode VOMS                                         3787 non-null   int64  \n",
      " 12  Guideway                                          3787 non-null   int64  \n",
      " 13  Guideway Questionable                             0 non-null      float64\n",
      " 14  Stations                                          3787 non-null   int64  \n",
      " 15  Stations Questionable                             0 non-null      float64\n",
      " 16  Administrative Buildings                          3787 non-null   int64  \n",
      " 17  Administrative Buildings Questionable             0 non-null      float64\n",
      " 18  Maintenance Buildings                             3787 non-null   int64  \n",
      " 19  Maintenance Buildings Questionable                2 non-null      object \n",
      " 20  Passenger Vehicles                                3787 non-null   int64  \n",
      " 21  Passenger Vehicles Questionable                   2 non-null      object \n",
      " 22  Other Vehicles                                    3787 non-null   int64  \n",
      " 23  Other Vehicles Questionable                       0 non-null      float64\n",
      " 24  Fare Collection Equipment                         3787 non-null   int64  \n",
      " 25  Fare Collection Equipment Questionable            0 non-null      float64\n",
      " 26  Communication & Information Systems               3787 non-null   int64  \n",
      " 27  Communication & Information Systems Questionable  0 non-null      float64\n",
      " 28  Other                                             3787 non-null   int64  \n",
      " 29  Other Questionable                                6 non-null      object \n",
      " 30  Reduced Reporter Expenses                         3787 non-null   int64  \n",
      " 31  Reduced Reporter Expenses Questionable            0 non-null      float64\n",
      " 32  Total                                             3787 non-null   int64  \n",
      " 33  Total Questionable                                0 non-null      float64\n",
      " 34  Any Data Questionable?                            3787 non-null   object \n",
      " 35  Unnamed: 35                                       1 non-null      float64\n",
      " 36  0                                                 3 non-null      object \n",
      " 37  Unnamed: 37                                       1 non-null      float64\n",
      "dtypes: float64(10), int64(14), object(14)\n",
      "memory usage: 1.1+ MB\n"
     ]
    }
   ],
   "source": [
    "raw_21.info()"
   ]
  },
  {
   "cell_type": "code",
   "execution_count": 8,
   "metadata": {},
   "outputs": [],
   "source": [
    "def process_2021_2016(raw:pd.DataFrame, year:int) -> pd.DataFrame:\n",
    "    '''Read raw data and return standardized data frame.\n",
    "\n",
    "    Takes a data frame in the format of the Capital Expenses data from 2016 to 2021\n",
    "    and removes unneeded columns, trims excess wording in \"Reporter Type\" field, and\n",
    "    adds the \"Report Year\" field. Does not modify data types in the data frame.\n",
    "\n",
    "    Arguments:\n",
    "        - raw (pd.DataFrame): The data frame containing the raw data.\n",
    "        - year (int): The year the observations in the data frame are from.\n",
    "    \n",
    "    Returns:\n",
    "        pd.DataFrame: The processed data frame with the standard columns.\n",
    "    '''\n",
    "    # Clean interior and exterior whitespace.\n",
    "    orig = raw.columns\n",
    "    clean = [str(name).strip().replace('\\n','') for name in orig]\n",
    "    # One data set has \"Name\" instead of \"Agency\"\n",
    "    clean = ['Agency' if name == 'Name' else name for name in clean]\n",
    "    data = raw.rename(columns=dict(zip(orig, clean)))\n",
    "    # Remove \"Questionable\" columns from data.\n",
    "    data = data.drop(columns=data.columns[[\"Questionable\" in name for name in data.columns]])\n",
    "    # Drop unneeded columns.\n",
    "    data = data.drop(columns=['Organization Type', 'Legacy NTD ID', 'Reduced Reporter Expenses'])\n",
    "    # Drop all columns after total.\n",
    "    names = data.columns\n",
    "    after_tot = names.get_loc('Total') + 1\n",
    "    if after_tot < len(names):\n",
    "        data = data.drop(columns=names[after_tot:])\n",
    "    # Remove the \"reporter\" suffix from the entries in reporter type.\n",
    "    data['Reporter Type'] = [words[0] for words in (str(item).split() for item in data['Reporter Type'])]\n",
    "    # Add the report year column.\n",
    "    data.insert(loc=5, column='Report Year', value=[year]*len(data['NTD ID']))\n",
    "    # Return\n",
    "    return data"
   ]
  },
  {
   "cell_type": "code",
   "execution_count": 9,
   "metadata": {},
   "outputs": [
    {
     "name": "stdout",
     "output_type": "stream",
     "text": [
      "<class 'pandas.core.frame.DataFrame'>\n",
      "Index: 25356 entries, 0 to 1858\n",
      "Data columns (total 21 columns):\n",
      " #   Column                               Non-Null Count  Dtype  \n",
      "---  ------                               --------------  -----  \n",
      " 0   Agency                               25322 non-null  object \n",
      " 1   City                                 25279 non-null  object \n",
      " 2   State                                25322 non-null  object \n",
      " 3   NTD ID                               25322 non-null  object \n",
      " 4   Reporter Type                        25356 non-null  object \n",
      " 5   Report Year                          25356 non-null  int64  \n",
      " 6   Primary UZA Population               24733 non-null  float64\n",
      " 7   Agency VOMS                          25322 non-null  object \n",
      " 8   Mode                                 25117 non-null  object \n",
      " 9   TOS                                  25117 non-null  object \n",
      " 10  Mode VOMS                            25304 non-null  object \n",
      " 11  Guideway                             25322 non-null  float64\n",
      " 12  Stations                             25322 non-null  float64\n",
      " 13  Administrative Buildings             25322 non-null  float64\n",
      " 14  Maintenance Buildings                25322 non-null  float64\n",
      " 15  Passenger Vehicles                   25322 non-null  float64\n",
      " 16  Other Vehicles                       25322 non-null  float64\n",
      " 17  Fare Collection Equipment            25322 non-null  float64\n",
      " 18  Communication & Information Systems  25322 non-null  float64\n",
      " 19  Other                                25322 non-null  float64\n",
      " 20  Total                                25322 non-null  float64\n",
      "dtypes: float64(11), int64(1), object(9)\n",
      "memory usage: 4.3+ MB\n"
     ]
    }
   ],
   "source": [
    "files = glob.glob(\"../data dump/Capital Expenses_20*.xls*\")\n",
    "frames = [0]*(len(files)+1)\n",
    "for i, file in enumerate(files):\n",
    "    raw = pd.read_excel(file, sheet_name='Total Capital Expenses by Mode')\n",
    "    frames[i] = process_2021_2016(raw, int(file.split(sep='_')[1][0:4]))\n",
    "frames[-1] = dat\n",
    "all_dat = pd.concat(frames)\n",
    "all_dat.info()"
   ]
  },
  {
   "cell_type": "code",
   "execution_count": 12,
   "metadata": {},
   "outputs": [
    {
     "name": "stdout",
     "output_type": "stream",
     "text": [
      "<class 'pandas.core.frame.DataFrame'>\n",
      "Index: 25322 entries, 0 to 1858\n",
      "Data columns (total 21 columns):\n",
      " #   Column                               Non-Null Count  Dtype  \n",
      "---  ------                               --------------  -----  \n",
      " 0   Agency                               25322 non-null  object \n",
      " 1   City                                 25279 non-null  object \n",
      " 2   State                                25322 non-null  object \n",
      " 3   NTD ID                               25322 non-null  object \n",
      " 4   Reporter Type                        25322 non-null  object \n",
      " 5   Report Year                          25322 non-null  int64  \n",
      " 6   Primary UZA Population               24733 non-null  float64\n",
      " 7   Agency VOMS                          25322 non-null  object \n",
      " 8   Mode                                 25117 non-null  object \n",
      " 9   TOS                                  25117 non-null  object \n",
      " 10  Mode VOMS                            25304 non-null  object \n",
      " 11  Guideway                             25322 non-null  float64\n",
      " 12  Stations                             25322 non-null  float64\n",
      " 13  Administrative Buildings             25322 non-null  float64\n",
      " 14  Maintenance Buildings                25322 non-null  float64\n",
      " 15  Passenger Vehicles                   25322 non-null  float64\n",
      " 16  Other Vehicles                       25322 non-null  float64\n",
      " 17  Fare Collection Equipment            25322 non-null  float64\n",
      " 18  Communication & Information Systems  25322 non-null  float64\n",
      " 19  Other                                25322 non-null  float64\n",
      " 20  Total                                25322 non-null  float64\n",
      "dtypes: float64(11), int64(1), object(9)\n",
      "memory usage: 4.3+ MB\n"
     ]
    }
   ],
   "source": [
    "all_dat = all_dat.loc[all_dat['Total'].notna(),:]\n",
    "all_dat.info()"
   ]
  },
  {
   "cell_type": "code",
   "execution_count": 13,
   "metadata": {},
   "outputs": [],
   "source": [
    "all_dat.to_csv('../data/NTD_Capital_Expenditures.csv', index=False)"
   ]
  }
 ],
 "metadata": {
  "kernelspec": {
   "display_name": ".venv",
   "language": "python",
   "name": "python3"
  },
  "language_info": {
   "codemirror_mode": {
    "name": "ipython",
    "version": 3
   },
   "file_extension": ".py",
   "mimetype": "text/x-python",
   "name": "python",
   "nbconvert_exporter": "python",
   "pygments_lexer": "ipython3",
   "version": "3.12.7"
  }
 },
 "nbformat": 4,
 "nbformat_minor": 2
}
