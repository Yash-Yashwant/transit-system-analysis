{
 "cells": [
  {
   "cell_type": "code",
   "execution_count": 1,
   "metadata": {},
   "outputs": [],
   "source": [
    "import pandas as pd"
   ]
  },
  {
   "cell_type": "code",
   "execution_count": 3,
   "metadata": {},
   "outputs": [],
   "source": [
    "raw_dat = pd.read_csv(\"../data dump/Capital Expenses_2022.csv\")"
   ]
  },
  {
   "cell_type": "code",
   "execution_count": 4,
   "metadata": {},
   "outputs": [
    {
     "name": "stdout",
     "output_type": "stream",
     "text": [
      "<class 'pandas.core.frame.DataFrame'>\n",
      "RangeIndex: 1859 entries, 0 to 1858\n",
      "Data columns (total 38 columns):\n",
      " #   Column                                            Non-Null Count  Dtype  \n",
      "---  ------                                            --------------  -----  \n",
      " 0   Agency                                            1859 non-null   object \n",
      " 1   City                                              1845 non-null   object \n",
      " 2   State                                             1859 non-null   object \n",
      " 3   NTD ID                                            1859 non-null   int64  \n",
      " 4   Organization Type                                 1859 non-null   object \n",
      " 5   Reporter Type                                     1859 non-null   object \n",
      " 6   Report Year                                       1859 non-null   int64  \n",
      " 7   UACE Code                                         1270 non-null   float64\n",
      " 8   UZA Name                                          1272 non-null   object \n",
      " 9   Primary UZA Population                            1270 non-null   object \n",
      " 10  Agency VOMS                                       1859 non-null   object \n",
      " 11  Mode                                              1859 non-null   object \n",
      " 12  Mode Name                                         1859 non-null   object \n",
      " 13  TOS                                               1859 non-null   object \n",
      " 14  Mode VOMS                                         1841 non-null   object \n",
      " 15  Capital Use Type                                  1859 non-null   object \n",
      " 16  Guideway                                          1859 non-null   object \n",
      " 17  Guideway Questionable                             0 non-null      float64\n",
      " 18  Stations                                          1859 non-null   object \n",
      " 19  Stations Questionable                             0 non-null      float64\n",
      " 20  Administrative Buildings                          1859 non-null   object \n",
      " 21  Administrative Buildings Questionable             0 non-null      float64\n",
      " 22  Maintenance Buildings                             1859 non-null   object \n",
      " 23  Maintenance Buildings Questionable                0 non-null      float64\n",
      " 24  Passenger Vehicles                                1859 non-null   object \n",
      " 25  Passenger Vehicles Questionable                   0 non-null      float64\n",
      " 26  Other Vehicles                                    1859 non-null   object \n",
      " 27  Other Vehicles Questionable                       0 non-null      float64\n",
      " 28  Fare Collection Equipment                         1859 non-null   object \n",
      " 29  Fare Collection Equipment Questionable            0 non-null      float64\n",
      " 30  Communication & Information Systems               1859 non-null   object \n",
      " 31  Communication & Information Systems Questionable  0 non-null      float64\n",
      " 32  Other                                             1859 non-null   object \n",
      " 33  Other Questionable                                0 non-null      float64\n",
      " 34  Reduced Reporter Expenses                         1859 non-null   object \n",
      " 35  Reduced Reporter Questionable                     0 non-null      float64\n",
      " 36  Total                                             1859 non-null   object \n",
      " 37  Total Questionable                                0 non-null      float64\n",
      "dtypes: float64(12), int64(2), object(24)\n",
      "memory usage: 552.0+ KB\n"
     ]
    }
   ],
   "source": [
    "raw_dat.info()"
   ]
  },
  {
   "cell_type": "code",
   "execution_count": 25,
   "metadata": {},
   "outputs": [],
   "source": [
    "# Remove all \"Questionable\" columns from the dataset.\n",
    "dat = raw_dat.drop(columns=raw_dat.columns[[\"Questionable\" in name for name in raw_dat.columns]])\n",
    "# Remove the \"reporter\" suffix from the entries in reporter type.\n",
    "dat['Reporter Type'] = [words[0] for words in (item.split() for item in raw_dat['Reporter Type'])]\n",
    "# Remove the \"Org Type\" column from the dataset.\n",
    "dat = dat.drop(columns=[\"Organization Type\"])\n",
    "# Remove the \"Reduced Reporter Expenses Column\" as it is a duplicate.\n",
    "dat = dat.drop(columns=[\"Reduced Reporter Expenses\"])\n",
    "# Change datatypes on dollar and population columns to numeric.\n",
    "def to_num(col_name:str, dat_frame:pd.DataFrame) -> list:\n",
    "    return [num.replace(',', '') if type(num) == str else num for num in dat_frame[col_name]]\n",
    "\n",
    "for col in dat.columns[15:]:\n",
    "    dat[col] = to_num(col, dat)\n",
    "    dat = dat.astype({col: 'float64'})\n",
    "\n",
    "dat[\"Primary UZA Population\"] = to_num(\"Primary UZA Population\", dat)\n",
    "dat = dat.astype({\"Primary UZA Population\": 'float64'})"
   ]
  },
  {
   "cell_type": "code",
   "execution_count": 26,
   "metadata": {},
   "outputs": [
    {
     "name": "stdout",
     "output_type": "stream",
     "text": [
      "<class 'pandas.core.frame.DataFrame'>\n",
      "RangeIndex: 1859 entries, 0 to 1858\n",
      "Data columns (total 25 columns):\n",
      " #   Column                               Non-Null Count  Dtype  \n",
      "---  ------                               --------------  -----  \n",
      " 0   Agency                               1859 non-null   object \n",
      " 1   City                                 1845 non-null   object \n",
      " 2   State                                1859 non-null   object \n",
      " 3   NTD ID                               1859 non-null   int64  \n",
      " 4   Reporter Type                        1859 non-null   object \n",
      " 5   Report Year                          1859 non-null   int64  \n",
      " 6   UACE Code                            1270 non-null   float64\n",
      " 7   UZA Name                             1272 non-null   object \n",
      " 8   Primary UZA Population               1270 non-null   float64\n",
      " 9   Agency VOMS                          1859 non-null   object \n",
      " 10  Mode                                 1859 non-null   object \n",
      " 11  Mode Name                            1859 non-null   object \n",
      " 12  TOS                                  1859 non-null   object \n",
      " 13  Mode VOMS                            1841 non-null   object \n",
      " 14  Capital Use Type                     1859 non-null   object \n",
      " 15  Guideway                             1859 non-null   float64\n",
      " 16  Stations                             1859 non-null   float64\n",
      " 17  Administrative Buildings             1859 non-null   float64\n",
      " 18  Maintenance Buildings                1859 non-null   float64\n",
      " 19  Passenger Vehicles                   1859 non-null   float64\n",
      " 20  Other Vehicles                       1859 non-null   float64\n",
      " 21  Fare Collection Equipment            1859 non-null   float64\n",
      " 22  Communication & Information Systems  1859 non-null   float64\n",
      " 23  Other                                1859 non-null   float64\n",
      " 24  Total                                1859 non-null   float64\n",
      "dtypes: float64(12), int64(2), object(11)\n",
      "memory usage: 363.2+ KB\n"
     ]
    }
   ],
   "source": [
    "# Is there a place where these column names are explained fully?\n",
    "# Yes. https://data.transportation.gov/Public-Transit/2022-NTD-Annual-Data-Capital-Expenses-by-Capital-U/fphd-jyyj/about_data\n",
    "dat.info()"
   ]
  }
 ],
 "metadata": {
  "kernelspec": {
   "display_name": ".venv",
   "language": "python",
   "name": "python3"
  },
  "language_info": {
   "codemirror_mode": {
    "name": "ipython",
    "version": 3
   },
   "file_extension": ".py",
   "mimetype": "text/x-python",
   "name": "python",
   "nbconvert_exporter": "python",
   "pygments_lexer": "ipython3",
   "version": "3.12.7"
  }
 },
 "nbformat": 4,
 "nbformat_minor": 2
}
