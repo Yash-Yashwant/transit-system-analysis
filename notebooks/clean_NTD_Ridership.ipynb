{
 "cells": [
  {
   "cell_type": "code",
   "execution_count": 50,
   "metadata": {},
   "outputs": [],
   "source": [
    "import pandas as pd\n",
    "from collections import Counter\n",
    "import numpy as np"
   ]
  },
  {
   "cell_type": "code",
   "execution_count": 13,
   "metadata": {},
   "outputs": [],
   "source": [
    "raw_UPT = pd.read_excel('../data dump/Sep 2024 Complete Monthly Ridership (with adjustments and estimates).xlsx',\n",
    "                        sheet_name='Calendar Year UPT')\n",
    "raw_VRM = pd.read_excel('../data dump/Sep 2024 Complete Monthly Ridership (with adjustments and estimates).xlsx',\n",
    "                        sheet_name='Calendar Year VRM')"
   ]
  },
  {
   "cell_type": "markdown",
   "metadata": {},
   "source": [
    "Start with the UPT sheet."
   ]
  },
  {
   "cell_type": "code",
   "execution_count": 14,
   "metadata": {},
   "outputs": [
    {
     "name": "stdout",
     "output_type": "stream",
     "text": [
      "<class 'pandas.core.frame.DataFrame'>\n",
      "RangeIndex: 2306 entries, 0 to 2305\n",
      "Data columns (total 29 columns):\n",
      " #   Column                       Non-Null Count  Dtype  \n",
      "---  ------                       --------------  -----  \n",
      " 0   NTD ID                       2300 non-null   float64\n",
      " 1   Agency                       2300 non-null   object \n",
      " 2   Mode/Type of Service Status  2300 non-null   object \n",
      " 3   Reporter Type                2300 non-null   object \n",
      " 4   Mode                         2300 non-null   object \n",
      " 5   3 Mode                       2300 non-null   object \n",
      " 6   2002                         1007 non-null   float64\n",
      " 7   2003                         1063 non-null   float64\n",
      " 8   2004                         1036 non-null   float64\n",
      " 9   2005                         1092 non-null   float64\n",
      " 10  2006                         1189 non-null   float64\n",
      " 11  2007                         1260 non-null   float64\n",
      " 12  2008                         1273 non-null   float64\n",
      " 13  2009                         1308 non-null   float64\n",
      " 14  2010                         1338 non-null   float64\n",
      " 15  2011                         1423 non-null   float64\n",
      " 16  2012                         1392 non-null   float64\n",
      " 17  2013                         1365 non-null   float64\n",
      " 18  2014                         1334 non-null   float64\n",
      " 19  2015                         1359 non-null   float64\n",
      " 20  2016                         1354 non-null   float64\n",
      " 21  2017                         1349 non-null   float64\n",
      " 22  2018                         1350 non-null   float64\n",
      " 23  2019                         1328 non-null   float64\n",
      " 24  2020                         1338 non-null   float64\n",
      " 25  2021                         1344 non-null   float64\n",
      " 26  2022                         1337 non-null   float64\n",
      " 27  2023                         1340 non-null   float64\n",
      " 28  2024                         1330 non-null   float64\n",
      "dtypes: float64(24), object(5)\n",
      "memory usage: 522.6+ KB\n"
     ]
    }
   ],
   "source": [
    "raw_UPT.drop(columns=['Legacy NTD ID', 'UACE CD', 'UZA Name', 'TOS'], inplace=True)\n",
    "raw_UPT.info()"
   ]
  },
  {
   "cell_type": "code",
   "execution_count": 17,
   "metadata": {},
   "outputs": [
    {
     "name": "stdout",
     "output_type": "stream",
     "text": [
      "<class 'pandas.core.frame.DataFrame'>\n",
      "Index: 11046 entries, 22092 to 33137\n",
      "Data columns (total 8 columns):\n",
      " #   Column                       Non-Null Count  Dtype  \n",
      "---  ------                       --------------  -----  \n",
      " 0   NTD ID                       11011 non-null  float64\n",
      " 1   Agency                       11011 non-null  object \n",
      " 2   Mode/Type of Service Status  11011 non-null  object \n",
      " 3   Reporter Type                11011 non-null  object \n",
      " 4   Mode                         11011 non-null  object \n",
      " 5   3 Mode                       11011 non-null  object \n",
      " 6   Year                         11046 non-null  object \n",
      " 7   UPT                          9400 non-null   float64\n",
      "dtypes: float64(2), object(6)\n",
      "memory usage: 776.7+ KB\n"
     ]
    }
   ],
   "source": [
    "raw_UPT = raw_UPT.dropna(axis=0, how='all', subset=raw_UPT.columns[20:27])\n",
    "red_UPT = raw_UPT.melt(id_vars=raw_UPT.columns[0:6], var_name='Year', value_name='UPT')\n",
    "red_UPT = red_UPT[(2016 <= red_UPT['Year']) & (red_UPT['Year'] <= 2022)]\n",
    "red_UPT.info()"
   ]
  },
  {
   "cell_type": "code",
   "execution_count": 19,
   "metadata": {},
   "outputs": [
    {
     "name": "stdout",
     "output_type": "stream",
     "text": [
      "<class 'pandas.core.frame.DataFrame'>\n",
      "Index: 11046 entries, 22092 to 33137\n",
      "Data columns (total 7 columns):\n",
      " #   Column         Non-Null Count  Dtype  \n",
      "---  ------         --------------  -----  \n",
      " 0   NTD ID         11011 non-null  float64\n",
      " 1   Agency         11011 non-null  object \n",
      " 2   Reporter Type  11046 non-null  object \n",
      " 3   Mode           11011 non-null  object \n",
      " 4   3 Mode         11011 non-null  object \n",
      " 5   Year           11046 non-null  object \n",
      " 6   UPT            9400 non-null   float64\n",
      "dtypes: float64(2), object(5)\n",
      "memory usage: 690.4+ KB\n"
     ]
    }
   ],
   "source": [
    "clean_UPT = red_UPT.drop(columns=['Mode/Type of Service Status'])\n",
    "clean_UPT['Reporter Type'] = [words[0] for words in (str(item).split() for item in clean_UPT['Reporter Type'])]\n",
    "clean_UPT.info()"
   ]
  },
  {
   "cell_type": "code",
   "execution_count": 20,
   "metadata": {},
   "outputs": [],
   "source": [
    "grp_UPT = clean_UPT.groupby(['NTD ID', 'Mode', 'Year'])"
   ]
  },
  {
   "cell_type": "code",
   "execution_count": 51,
   "metadata": {},
   "outputs": [
    {
     "name": "stdout",
     "output_type": "stream",
     "text": [
      "<class 'pandas.core.frame.DataFrame'>\n",
      "RangeIndex: 8974 entries, 0 to 8973\n",
      "Data columns (total 7 columns):\n",
      " #   Column         Non-Null Count  Dtype  \n",
      "---  ------         --------------  -----  \n",
      " 0   NTD ID         8974 non-null   int64  \n",
      " 1   Mode           8974 non-null   object \n",
      " 2   Year           8974 non-null   int64  \n",
      " 3   Agency         8974 non-null   object \n",
      " 4   Reporter Type  8974 non-null   object \n",
      " 5   3 Mode         8974 non-null   object \n",
      " 6   UPT            8126 non-null   float64\n",
      "dtypes: float64(1), int64(2), object(4)\n",
      "memory usage: 490.9+ KB\n"
     ]
    }
   ],
   "source": [
    "def most_common(lst):\n",
    "    data = Counter(lst)\n",
    "    return data.most_common(1)[0][0]\n",
    "\n",
    "clean_UPT = grp_UPT.agg({'Agency': most_common, 'Reporter Type': most_common, '3 Mode': most_common, \n",
    "                    'UPT':\"sum\"}).reset_index()\n",
    "clean_UPT['UPT'] = clean_UPT['UPT'].replace(0.0, np.nan)\n",
    "clean_UPT['NTD ID'] = clean_UPT['NTD ID'].astype(dtype='int64')\n",
    "clean_UPT.info()"
   ]
  },
  {
   "cell_type": "markdown",
   "metadata": {},
   "source": [
    "Same idea with the VRM sheet."
   ]
  },
  {
   "cell_type": "code",
   "execution_count": 52,
   "metadata": {},
   "outputs": [
    {
     "name": "stdout",
     "output_type": "stream",
     "text": [
      "<class 'pandas.core.frame.DataFrame'>\n",
      "RangeIndex: 2306 entries, 0 to 2305\n",
      "Data columns (total 29 columns):\n",
      " #   Column                       Non-Null Count  Dtype  \n",
      "---  ------                       --------------  -----  \n",
      " 0   NTD ID                       2300 non-null   float64\n",
      " 1   Agency                       2300 non-null   object \n",
      " 2   Mode/Type of Service Status  2300 non-null   object \n",
      " 3   Reporter Type                2300 non-null   object \n",
      " 4   Mode                         2300 non-null   object \n",
      " 5   3 Mode                       2300 non-null   object \n",
      " 6   2002                         930 non-null    float64\n",
      " 7   2003                         992 non-null    float64\n",
      " 8   2004                         995 non-null    float64\n",
      " 9   2005                         1066 non-null   float64\n",
      " 10  2006                         1175 non-null   float64\n",
      " 11  2007                         1258 non-null   float64\n",
      " 12  2008                         1273 non-null   float64\n",
      " 13  2009                         1306 non-null   float64\n",
      " 14  2010                         1338 non-null   float64\n",
      " 15  2011                         1423 non-null   float64\n",
      " 16  2012                         1387 non-null   float64\n",
      " 17  2013                         1365 non-null   float64\n",
      " 18  2014                         1333 non-null   float64\n",
      " 19  2015                         1359 non-null   float64\n",
      " 20  2016                         1354 non-null   float64\n",
      " 21  2017                         1349 non-null   float64\n",
      " 22  2018                         1350 non-null   float64\n",
      " 23  2019                         1328 non-null   float64\n",
      " 24  2020                         1337 non-null   float64\n",
      " 25  2021                         1344 non-null   float64\n",
      " 26  2022                         1337 non-null   float64\n",
      " 27  2023                         1333 non-null   float64\n",
      " 28  2024                         1323 non-null   float64\n",
      "dtypes: float64(24), object(5)\n",
      "memory usage: 522.6+ KB\n"
     ]
    }
   ],
   "source": [
    "raw_VRM.drop(columns=['Legacy NTD ID', 'UACE CD', 'UZA Name', 'TOS'], inplace=True)\n",
    "raw_VRM.info()"
   ]
  },
  {
   "cell_type": "code",
   "execution_count": 54,
   "metadata": {},
   "outputs": [
    {
     "name": "stdout",
     "output_type": "stream",
     "text": [
      "<class 'pandas.core.frame.DataFrame'>\n",
      "Index: 11046 entries, 22092 to 33137\n",
      "Data columns (total 8 columns):\n",
      " #   Column                       Non-Null Count  Dtype  \n",
      "---  ------                       --------------  -----  \n",
      " 0   NTD ID                       11011 non-null  float64\n",
      " 1   Agency                       11011 non-null  object \n",
      " 2   Mode/Type of Service Status  11011 non-null  object \n",
      " 3   Reporter Type                11011 non-null  object \n",
      " 4   Mode                         11011 non-null  object \n",
      " 5   3 Mode                       11011 non-null  object \n",
      " 6   Year                         11046 non-null  object \n",
      " 7   VRM                          9399 non-null   float64\n",
      "dtypes: float64(2), object(6)\n",
      "memory usage: 776.7+ KB\n"
     ]
    }
   ],
   "source": [
    "raw_VRM = raw_VRM.dropna(axis=0, how='all', subset=raw_VRM.columns[20:27])\n",
    "red_VRM = raw_VRM.melt(id_vars=raw_VRM.columns[0:6], var_name='Year', value_name='VRM')\n",
    "red_VRM = red_VRM[(2016 <= red_VRM['Year']) & (red_VRM['Year'] <= 2022)]\n",
    "red_VRM.info()"
   ]
  },
  {
   "cell_type": "code",
   "execution_count": 55,
   "metadata": {},
   "outputs": [
    {
     "name": "stdout",
     "output_type": "stream",
     "text": [
      "<class 'pandas.core.frame.DataFrame'>\n",
      "Index: 11046 entries, 22092 to 33137\n",
      "Data columns (total 7 columns):\n",
      " #   Column         Non-Null Count  Dtype  \n",
      "---  ------         --------------  -----  \n",
      " 0   NTD ID         11011 non-null  float64\n",
      " 1   Agency         11011 non-null  object \n",
      " 2   Reporter Type  11046 non-null  object \n",
      " 3   Mode           11011 non-null  object \n",
      " 4   3 Mode         11011 non-null  object \n",
      " 5   Year           11046 non-null  object \n",
      " 6   VRM            9399 non-null   float64\n",
      "dtypes: float64(2), object(5)\n",
      "memory usage: 690.4+ KB\n"
     ]
    }
   ],
   "source": [
    "red_VRM.drop(columns=['Mode/Type of Service Status'], inplace=True)\n",
    "red_VRM['Reporter Type'] = [words[0] for words in (str(item).split() for item in red_VRM['Reporter Type'])]\n",
    "red_VRM.info()"
   ]
  },
  {
   "cell_type": "code",
   "execution_count": 56,
   "metadata": {},
   "outputs": [],
   "source": [
    "grp_VRM = red_VRM.groupby(['NTD ID', 'Mode', 'Year'])"
   ]
  },
  {
   "cell_type": "code",
   "execution_count": 61,
   "metadata": {},
   "outputs": [
    {
     "name": "stdout",
     "output_type": "stream",
     "text": [
      "<class 'pandas.core.frame.DataFrame'>\n",
      "RangeIndex: 8974 entries, 0 to 8973\n",
      "Data columns (total 4 columns):\n",
      " #   Column  Non-Null Count  Dtype  \n",
      "---  ------  --------------  -----  \n",
      " 0   NTD ID  8974 non-null   int64  \n",
      " 1   Mode    8974 non-null   object \n",
      " 2   Year    8974 non-null   int64  \n",
      " 3   VRM     8128 non-null   float64\n",
      "dtypes: float64(1), int64(2), object(1)\n",
      "memory usage: 280.6+ KB\n"
     ]
    }
   ],
   "source": [
    "clean_VRM = grp_VRM['VRM'].sum().reset_index()\n",
    "clean_VRM['NTD ID'] = clean_VRM['NTD ID'].astype(dtype='int64')\n",
    "clean_VRM['VRM'] = clean_VRM['VRM'].replace(0.0, np.nan)\n",
    "clean_VRM.info()"
   ]
  },
  {
   "cell_type": "markdown",
   "metadata": {},
   "source": [
    "Merge thet two data sheets."
   ]
  },
  {
   "cell_type": "code",
   "execution_count": 62,
   "metadata": {},
   "outputs": [
    {
     "name": "stdout",
     "output_type": "stream",
     "text": [
      "<class 'pandas.core.frame.DataFrame'>\n",
      "RangeIndex: 8974 entries, 0 to 8973\n",
      "Data columns (total 8 columns):\n",
      " #   Column         Non-Null Count  Dtype  \n",
      "---  ------         --------------  -----  \n",
      " 0   NTD ID         8974 non-null   int64  \n",
      " 1   Mode           8974 non-null   object \n",
      " 2   Year           8974 non-null   int64  \n",
      " 3   Agency         8974 non-null   object \n",
      " 4   Reporter Type  8974 non-null   object \n",
      " 5   3 Mode         8974 non-null   object \n",
      " 6   UPT            8126 non-null   float64\n",
      " 7   VRM            8128 non-null   float64\n",
      "dtypes: float64(2), int64(2), object(4)\n",
      "memory usage: 561.0+ KB\n"
     ]
    }
   ],
   "source": [
    "rider_data = clean_UPT.merge(clean_VRM, on=['NTD ID', 'Mode', 'Year'])\n",
    "rider_data.info()"
   ]
  },
  {
   "cell_type": "code",
   "execution_count": 63,
   "metadata": {},
   "outputs": [],
   "source": [
    "rider_data.to_csv('../data/NTD_Annual_Ridership.csv', index=False)"
   ]
  }
 ],
 "metadata": {
  "kernelspec": {
   "display_name": ".venv",
   "language": "python",
   "name": "python3"
  },
  "language_info": {
   "codemirror_mode": {
    "name": "ipython",
    "version": 3
   },
   "file_extension": ".py",
   "mimetype": "text/x-python",
   "name": "python",
   "nbconvert_exporter": "python",
   "pygments_lexer": "ipython3",
   "version": "3.12.7"
  }
 },
 "nbformat": 4,
 "nbformat_minor": 2
}
