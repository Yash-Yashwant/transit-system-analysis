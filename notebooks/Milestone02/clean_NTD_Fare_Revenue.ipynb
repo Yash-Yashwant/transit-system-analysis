{
 "cells": [
  {
   "cell_type": "code",
   "execution_count": 1,
   "metadata": {},
   "outputs": [],
   "source": [
    "import pandas as pd"
   ]
  },
  {
   "cell_type": "markdown",
   "metadata": {},
   "source": [
    "## Process 2022"
   ]
  },
  {
   "cell_type": "code",
   "execution_count": null,
   "metadata": {},
   "outputs": [
    {
     "name": "stdout",
     "output_type": "stream",
     "text": [
      "<class 'pandas.core.frame.DataFrame'>\n",
      "RangeIndex: 6086 entries, 0 to 6085\n",
      "Data columns (total 11 columns):\n",
      " #   Column                   Non-Null Count  Dtype  \n",
      "---  ------                   --------------  -----  \n",
      " 0   State/Parent NTD ID      3054 non-null   object \n",
      " 1   NTD ID                   6086 non-null   int64  \n",
      " 2   Agency Name              6086 non-null   object \n",
      " 3   Reporter Type            6032 non-null   object \n",
      " 4   Reporting Module         6086 non-null   object \n",
      " 5   Mode                     6086 non-null   object \n",
      " 6   TOS                      6086 non-null   object \n",
      " 7   Expense Type             6086 non-null   object \n",
      " 8   Passenger Paid Fares     4135 non-null   float64\n",
      " 9   Organization Paid Fares  2511 non-null   float64\n",
      " 10  Total Fares              6086 non-null   int64  \n",
      "dtypes: float64(2), int64(2), object(7)\n",
      "memory usage: 523.1+ KB\n"
     ]
    }
   ],
   "source": [
    "fare_22 = pd.read_excel(\"../../raw_data/2022 Fare Revenue.xlsx\", sheet_name=\"2022 Fare Revenue\")\n",
    "fare_22.info()"
   ]
  },
  {
   "cell_type": "code",
   "execution_count": 3,
   "metadata": {},
   "outputs": [
    {
     "name": "stdout",
     "output_type": "stream",
     "text": [
      "<class 'pandas.core.frame.DataFrame'>\n",
      "RangeIndex: 6086 entries, 0 to 6085\n",
      "Data columns (total 8 columns):\n",
      " #   Column                   Non-Null Count  Dtype  \n",
      "---  ------                   --------------  -----  \n",
      " 0   NTD ID                   6086 non-null   int64  \n",
      " 1   Agency Name              6086 non-null   object \n",
      " 2   Reporter Type            6032 non-null   object \n",
      " 3   Mode                     6086 non-null   object \n",
      " 4   Expense Type             6086 non-null   object \n",
      " 5   Passenger Paid Fares     4135 non-null   float64\n",
      " 6   Organization Paid Fares  2511 non-null   float64\n",
      " 7   Total Fares              6086 non-null   int64  \n",
      "dtypes: float64(2), int64(2), object(4)\n",
      "memory usage: 380.5+ KB\n"
     ]
    }
   ],
   "source": [
    "# Remove unneeded columns.\n",
    "fare_22.drop(columns=['State/Parent NTD ID', 'TOS', 'Reporting Module'], inplace=True)\n",
    "fare_22.info()"
   ]
  },
  {
   "cell_type": "code",
   "execution_count": 4,
   "metadata": {},
   "outputs": [
    {
     "name": "stdout",
     "output_type": "stream",
     "text": [
      "<class 'pandas.core.frame.DataFrame'>\n",
      "RangeIndex: 6086 entries, 0 to 6085\n",
      "Data columns (total 8 columns):\n",
      " #   Column                   Non-Null Count  Dtype  \n",
      "---  ------                   --------------  -----  \n",
      " 0   NTD ID                   6086 non-null   int64  \n",
      " 1   Agency Name              6086 non-null   object \n",
      " 2   Reporter Type            6032 non-null   object \n",
      " 3   Mode                     6086 non-null   object \n",
      " 4   Expense Type             6086 non-null   object \n",
      " 5   Passenger Paid Fares     4135 non-null   float64\n",
      " 6   Organization Paid Fares  2511 non-null   float64\n",
      " 7   Total Fares              6086 non-null   int64  \n",
      "dtypes: float64(2), int64(2), object(4)\n",
      "memory usage: 380.5+ KB\n"
     ]
    }
   ],
   "source": [
    "# Remove the \"reporter\" suffix from the entries in reporter type.\n",
    "fare_22['Reporter Type'] = fare_22['Reporter Type'].fillna('Null')\n",
    "fare_22['Reporter Type'] = [words[0] for words in (item.split() for item in fare_22['Reporter Type'])]\n",
    "fare_22['Reporter Type'] = fare_22['Reporter Type'].replace('Null', None)\n",
    "fare_22.info()"
   ]
  },
  {
   "cell_type": "code",
   "execution_count": 5,
   "metadata": {},
   "outputs": [
    {
     "name": "stdout",
     "output_type": "stream",
     "text": [
      "<class 'pandas.core.frame.DataFrame'>\n",
      "Index: 1348 entries, 0 to 6057\n",
      "Data columns (total 8 columns):\n",
      " #   Column                   Non-Null Count  Dtype  \n",
      "---  ------                   --------------  -----  \n",
      " 0   NTD ID                   1348 non-null   int64  \n",
      " 1   Agency Name              1348 non-null   object \n",
      " 2   Reporter Type            1308 non-null   object \n",
      " 3   Mode                     1348 non-null   object \n",
      " 4   Expense Type             1348 non-null   object \n",
      " 5   Passenger Paid Fares     1202 non-null   float64\n",
      " 6   Organization Paid Fares  542 non-null    float64\n",
      " 7   Total Fares              1348 non-null   int64  \n",
      "dtypes: float64(2), int64(2), object(4)\n",
      "memory usage: 94.8+ KB\n"
     ]
    }
   ],
   "source": [
    "# Isolate only funds-earned during period columns.\n",
    "fare_22_earned = fare_22[fare_22['Expense Type'] == \"Funds Earned During Period\"]\n",
    "fare_22_earned.info()"
   ]
  },
  {
   "cell_type": "code",
   "execution_count": 6,
   "metadata": {},
   "outputs": [
    {
     "name": "stdout",
     "output_type": "stream",
     "text": [
      "<class 'pandas.core.frame.DataFrame'>\n",
      "RangeIndex: 1173 entries, 0 to 1172\n",
      "Data columns (total 5 columns):\n",
      " #   Column                   Non-Null Count  Dtype  \n",
      "---  ------                   --------------  -----  \n",
      " 0   NTD ID                   1173 non-null   int64  \n",
      " 1   Mode                     1173 non-null   object \n",
      " 2   Passenger Paid Fares     1173 non-null   float64\n",
      " 3   Organization Paid Fares  1173 non-null   float64\n",
      " 4   Total Fares              1173 non-null   int64  \n",
      "dtypes: float64(2), int64(2), object(1)\n",
      "memory usage: 45.9+ KB\n"
     ]
    }
   ],
   "source": [
    "# Aggregate by agency and mode type.\n",
    "grp_22 = fare_22_earned.drop(columns=['Expense Type', \"Agency Name\", \"Reporter Type\"]).groupby(by=['NTD ID', 'Mode'])\n",
    "fare_22_clean = grp_22.sum().reset_index()\n",
    "fare_22_clean.info()"
   ]
  },
  {
   "cell_type": "code",
   "execution_count": 7,
   "metadata": {},
   "outputs": [
    {
     "name": "stdout",
     "output_type": "stream",
     "text": [
      "<class 'pandas.core.frame.DataFrame'>\n",
      "RangeIndex: 1173 entries, 0 to 1172\n",
      "Data columns (total 8 columns):\n",
      " #   Column                   Non-Null Count  Dtype  \n",
      "---  ------                   --------------  -----  \n",
      " 0   NTD ID                   1173 non-null   int64  \n",
      " 1   Agency Name              1173 non-null   object \n",
      " 2   Year                     1173 non-null   int64  \n",
      " 3   Reporter Type            1140 non-null   object \n",
      " 4   Mode                     1173 non-null   object \n",
      " 5   Passenger Paid Fares     1173 non-null   float64\n",
      " 6   Organization Paid Fares  1173 non-null   float64\n",
      " 7   Total Fares              1173 non-null   int64  \n",
      "dtypes: float64(2), int64(3), object(3)\n",
      "memory usage: 73.4+ KB\n"
     ]
    }
   ],
   "source": [
    "# Re-add Agency Name and Reporter Type\n",
    "name_map_dict = pd.Series(data=fare_22_earned['Agency Name'].values, index=fare_22_earned['NTD ID']).to_dict()\n",
    "def id_to_name(id):\n",
    "    return name_map_dict[id]\n",
    "\n",
    "rep_map_dict = pd.Series(data=fare_22_earned['Reporter Type'].values, index=fare_22_earned['NTD ID']).to_dict()\n",
    "def id_to_rep_type(id):\n",
    "    return rep_map_dict[id]\n",
    "\n",
    "fare_22_clean.insert(1, column='Agency Name', value= fare_22_clean['NTD ID'].apply(id_to_name))\n",
    "fare_22_clean.insert(2, column='Reporter Type', value= fare_22_clean['NTD ID'].apply(id_to_rep_type))\n",
    "fare_22_clean.insert(2, column='Year', value=[2022]*len(fare_22_clean['NTD ID']))\n",
    "fare_22_clean.info()"
   ]
  },
  {
   "cell_type": "markdown",
   "metadata": {},
   "source": [
    "## Clean 2021 - 2019"
   ]
  },
  {
   "cell_type": "code",
   "execution_count": 8,
   "metadata": {},
   "outputs": [],
   "source": [
    "def clean_21_to_19(df:pd.DataFrame, year:int):\n",
    "    df['NTD ID'] = [str(num)[-5:] for num in df['NTD ID']]\n",
    "    df = df.drop(columns=['Reporting Module', 'TOS'])\n",
    "    # Remove the \"reporter\" suffix from the entries in reporter type.\n",
    "    df['Reporter Type'] = df['Reporter Type'].fillna('Null')\n",
    "    df['Reporter Type'] = [words[0] for words in (item.split() for item in df['Reporter Type'])]\n",
    "    df['Reporter Type'] = df['Reporter Type'].replace('Null', None)\n",
    "    # Isolate earnings rows.\n",
    "    df = df[df['Expense Type'] == \"Funds Earned During Period\"]\n",
    "    # Group and aggregate by agency and mode type.\n",
    "    df_grp = df.drop(columns=['Expense Type', \"Agency Name\", \"Reporter Type\"]).groupby(by=['NTD ID', 'Mode'])\n",
    "    df_clean = df_grp.sum().reset_index()\n",
    "    #Re-add Agency Name and Reporter Type\n",
    "    name_map_dict = pd.Series(data=df['Agency Name'].values, index=df['NTD ID']).to_dict()\n",
    "    def id_to_name(id):\n",
    "        return name_map_dict[id]\n",
    "\n",
    "    rep_map_dict = pd.Series(data=df['Reporter Type'].values, index=df['NTD ID']).to_dict()\n",
    "    def id_to_rep_type(id):\n",
    "        return rep_map_dict[id]\n",
    "    \n",
    "    df_clean.insert(1, column='Agency Name', value= df_clean['NTD ID'].apply(id_to_name))\n",
    "    df_clean.insert(2, column='Reporter Type', value= df_clean['NTD ID'].apply(id_to_rep_type))\n",
    "    # Add a year value.\n",
    "    df_clean.insert(2, column='Year', value=[year]*len(df_clean['NTD ID']))\n",
    "    # Make NTD ID an integer value.\n",
    "    df_clean['NTD ID'] = df_clean['NTD ID'].astype(dtype='int64')\n",
    "    # Return cleaned data.\n",
    "    return df_clean"
   ]
  },
  {
   "cell_type": "code",
   "execution_count": null,
   "metadata": {},
   "outputs": [
    {
     "name": "stdout",
     "output_type": "stream",
     "text": [
      "<class 'pandas.core.frame.DataFrame'>\n",
      "Index: 3559 entries, 0 to 1217\n",
      "Data columns (total 8 columns):\n",
      " #   Column                   Non-Null Count  Dtype \n",
      "---  ------                   --------------  ----- \n",
      " 0   NTD ID                   3559 non-null   int64 \n",
      " 1   Agency Name              3559 non-null   object\n",
      " 2   Year                     3559 non-null   int64 \n",
      " 3   Reporter Type            3559 non-null   object\n",
      " 4   Mode                     3559 non-null   object\n",
      " 5   Passenger Paid Fares     3559 non-null   int64 \n",
      " 6   Organization Paid Fares  3559 non-null   int64 \n",
      " 7   Total Fares              3559 non-null   int64 \n",
      "dtypes: int64(5), object(3)\n",
      "memory usage: 250.2+ KB\n"
     ]
    }
   ],
   "source": [
    "fare_21 = pd.read_excel(\"../../raw_data/2021 Fare Revenue.xlsx\")\n",
    "fare_20 = pd.read_excel('../../raw_data/2020 Fare Revenue.xlsx')\n",
    "fare_19 = pd.read_excel('../../raw_data/2019 Fare Revenue.xlsx')\n",
    "frames = [fare_21, fare_20, fare_19]\n",
    "years = [2021, 2020, 2019]\n",
    "cleaned = []\n",
    "for df, yr in zip(frames, years):\n",
    "    cleaned.append(clean_21_to_19(df, yr))\n",
    "\n",
    "dat_21_19 = pd.concat(cleaned)\n",
    "dat_21_19.info()"
   ]
  },
  {
   "cell_type": "markdown",
   "metadata": {},
   "source": [
    "## Clean 2018\n",
    "It is almost identical to 2021 - 2019 except that it has a Legacy NTD ID column."
   ]
  },
  {
   "cell_type": "code",
   "execution_count": null,
   "metadata": {},
   "outputs": [
    {
     "name": "stdout",
     "output_type": "stream",
     "text": [
      "<class 'pandas.core.frame.DataFrame'>\n",
      "RangeIndex: 1234 entries, 0 to 1233\n",
      "Data columns (total 8 columns):\n",
      " #   Column                   Non-Null Count  Dtype \n",
      "---  ------                   --------------  ----- \n",
      " 0   NTD ID                   1234 non-null   int64 \n",
      " 1   Agency Name              1234 non-null   object\n",
      " 2   Year                     1234 non-null   int64 \n",
      " 3   Reporter Type            1234 non-null   object\n",
      " 4   Mode                     1234 non-null   object\n",
      " 5   Passenger Paid Fares     1234 non-null   int64 \n",
      " 6   Organization Paid Fares  1234 non-null   int64 \n",
      " 7   Total Fares              1234 non-null   int64 \n",
      "dtypes: int64(5), object(3)\n",
      "memory usage: 77.3+ KB\n"
     ]
    }
   ],
   "source": [
    "fare_18 = pd.read_excel('../../raw_data/2018 Fare Revenue.xlsx')\n",
    "fare_18.drop(columns=['Legacy NTD ID'], inplace=True)\n",
    "fare_18_clean = clean_21_to_19(fare_18, 2018)\n",
    "fare_18_clean.info()"
   ]
  },
  {
   "cell_type": "markdown",
   "metadata": {},
   "source": [
    "## Clean 2017 and 2016"
   ]
  },
  {
   "cell_type": "code",
   "execution_count": null,
   "metadata": {},
   "outputs": [
    {
     "name": "stdout",
     "output_type": "stream",
     "text": [
      "<class 'pandas.core.frame.DataFrame'>\n",
      "RangeIndex: 1253 entries, 0 to 1252\n",
      "Data columns (total 6 columns):\n",
      " #   Column         Non-Null Count  Dtype  \n",
      "---  ------         --------------  -----  \n",
      " 0   NTD ID         1253 non-null   int64  \n",
      " 1   Agency Name    1253 non-null   object \n",
      " 2   Year           1253 non-null   int64  \n",
      " 3   Reporter Type  1253 non-null   object \n",
      " 4   Mode           1253 non-null   object \n",
      " 5   Total Fares    1253 non-null   float64\n",
      "dtypes: float64(1), int64(2), object(3)\n",
      "memory usage: 58.9+ KB\n"
     ]
    }
   ],
   "source": [
    "fare_17 = pd.read_excel('../../raw_data/2017 Fare Revenue.xlsx')\n",
    "fare_17['Total Fares'] = fare_17['Fares']\n",
    "fare_17.drop(columns=['Fares', 'Legacy NTD ID'], inplace=True)\n",
    "fare_17_clean = clean_21_to_19(fare_17, 2017)\n",
    "fare_17_clean.info()"
   ]
  },
  {
   "cell_type": "code",
   "execution_count": null,
   "metadata": {},
   "outputs": [
    {
     "name": "stdout",
     "output_type": "stream",
     "text": [
      "<class 'pandas.core.frame.DataFrame'>\n",
      "RangeIndex: 1249 entries, 0 to 1248\n",
      "Data columns (total 6 columns):\n",
      " #   Column         Non-Null Count  Dtype  \n",
      "---  ------         --------------  -----  \n",
      " 0   NTD ID         1249 non-null   int64  \n",
      " 1   Agency Name    1249 non-null   object \n",
      " 2   Year           1249 non-null   int64  \n",
      " 3   Reporter Type  1249 non-null   object \n",
      " 4   Mode           1249 non-null   object \n",
      " 5   Total Fares    1249 non-null   float64\n",
      "dtypes: float64(1), int64(2), object(3)\n",
      "memory usage: 58.7+ KB\n"
     ]
    }
   ],
   "source": [
    "fare_16 = pd.read_excel('../../raw_data/2016 Fare Revenue.xlsx')\n",
    "fare_16['Total Fares'] = fare_16['Fares']\n",
    "fare_16.insert(0, 'NTD ID', value=fare_16['5 Digit NTD ID'])\n",
    "fare_16.drop(columns=['5 Digit NTD ID', 'Fares', 'Legacy NTD ID'], inplace=True)\n",
    "fare_16_clean = clean_21_to_19(fare_16, 2016)\n",
    "fare_16_clean.info()"
   ]
  },
  {
   "cell_type": "markdown",
   "metadata": {},
   "source": [
    "## Combine All Datasets"
   ]
  },
  {
   "cell_type": "code",
   "execution_count": 13,
   "metadata": {},
   "outputs": [
    {
     "name": "stdout",
     "output_type": "stream",
     "text": [
      "<class 'pandas.core.frame.DataFrame'>\n",
      "Index: 8468 entries, 0 to 1248\n",
      "Data columns (total 8 columns):\n",
      " #   Column                   Non-Null Count  Dtype  \n",
      "---  ------                   --------------  -----  \n",
      " 0   NTD ID                   8468 non-null   object \n",
      " 1   Agency Name              8468 non-null   object \n",
      " 2   Year                     8468 non-null   int64  \n",
      " 3   Reporter Type            8435 non-null   object \n",
      " 4   Mode                     8468 non-null   object \n",
      " 5   Passenger Paid Fares     5966 non-null   float64\n",
      " 6   Organization Paid Fares  5966 non-null   float64\n",
      " 7   Total Fares              8468 non-null   float64\n",
      "dtypes: float64(3), int64(1), object(4)\n",
      "memory usage: 595.4+ KB\n"
     ]
    }
   ],
   "source": [
    "frames = [fare_22_clean, dat_21_19, fare_18_clean, fare_17_clean, fare_16_clean]\n",
    "all_dat = pd.concat(frames)\n",
    "all_dat['NTD ID'] = [f\"{num:05d}\" for num in all_dat['NTD ID']]\n",
    "all_dat.info()"
   ]
  },
  {
   "cell_type": "code",
   "execution_count": null,
   "metadata": {},
   "outputs": [],
   "source": [
    "all_dat.to_csv('../../data/NTD_Fare_Revenue.csv', index=False, sep=',')"
   ]
  }
 ],
 "metadata": {
  "kernelspec": {
   "display_name": ".venv",
   "language": "python",
   "name": "python3"
  },
  "language_info": {
   "codemirror_mode": {
    "name": "ipython",
    "version": 3
   },
   "file_extension": ".py",
   "mimetype": "text/x-python",
   "name": "python",
   "nbconvert_exporter": "python",
   "pygments_lexer": "ipython3",
   "version": "3.12.7"
  }
 },
 "nbformat": 4,
 "nbformat_minor": 2
}
