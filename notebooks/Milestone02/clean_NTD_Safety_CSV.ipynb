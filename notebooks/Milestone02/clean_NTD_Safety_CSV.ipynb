{
 "cells": [
  {
   "cell_type": "code",
   "execution_count": 1,
   "metadata": {},
   "outputs": [],
   "source": [
    "import pandas as pd\n",
    "import numpy as np"
   ]
  },
  {
   "cell_type": "markdown",
   "metadata": {},
   "source": [
    "## Non-Major Incidents Data"
   ]
  },
  {
   "cell_type": "markdown",
   "metadata": {},
   "source": [
    "The safety dataset is composed of individual records of minor safety incidents from 2008 to 2024. The URL describing the dataset is given by https://data.transportation.gov/Public-Transit/Non-Major-Safety-and-Security-Events/urir-txqm/about_data."
   ]
  },
  {
   "cell_type": "code",
   "execution_count": null,
   "metadata": {},
   "outputs": [
    {
     "name": "stdout",
     "output_type": "stream",
     "text": [
      "<class 'pandas.core.frame.DataFrame'>\n",
      "RangeIndex: 97032 entries, 0 to 97031\n",
      "Data columns (total 20 columns):\n",
      " #   Column                                                                 Non-Null Count  Dtype \n",
      "---  ------                                                                 --------------  ----- \n",
      " 0   5 Digit NTD ID                                                         97032 non-null  int64 \n",
      " 1   Agency                                                                 97032 non-null  object\n",
      " 2   Mode                                                                   97032 non-null  object\n",
      " 3   Type of Service                                                        97032 non-null  object\n",
      " 4   Month                                                                  97032 non-null  object\n",
      " 5   Year                                                                   97032 non-null  int64 \n",
      " 6   Safety/Security                                                        97032 non-null  object\n",
      " 7   Event Type                                                             97032 non-null  object\n",
      " 8   Location                                                               93119 non-null  object\n",
      " 9   Location Group                                                         97032 non-null  object\n",
      " 10  Physical Assaults on Operators (Security Events Only)                  97032 non-null  int64 \n",
      " 11  Non-Physical Assaults on Operators (Security Events Only)              97032 non-null  int64 \n",
      " 12  Physical Assaults on Other Transit Workers (Security Events Only)      97032 non-null  int64 \n",
      " 13  Non-Physical Assaults on Other Transit Workers (Security Events Only)  97032 non-null  int64 \n",
      " 14  Additional Assault Information                                         1012 non-null   object\n",
      " 15  Total Events                                                           97032 non-null  object\n",
      " 16  Customer Injuries (Safety Events Only)                                 97032 non-null  int64 \n",
      " 17  Worker Injuries (Safety Events Only)                                   97032 non-null  int64 \n",
      " 18  Other Injuries (Safety Events Only)                                    97032 non-null  int64 \n",
      " 19  Total Injuries (Safety Events Only)                                    97032 non-null  int64 \n",
      "dtypes: int64(10), object(10)\n",
      "memory usage: 14.8+ MB\n"
     ]
    },
    {
     "name": "stderr",
     "output_type": "stream",
     "text": [
      "/var/folders/0c/8jgwlmw579z5xqz61k4vsvcm0000gp/T/ipykernel_78283/804270547.py:1: DtypeWarning: Columns (14,15) have mixed types. Specify dtype option on import or set low_memory=False.\n",
      "  raw_dat = pd.read_csv(\"../data dump/NonMajor_Safety_Raw.csv\", sep=',')\n"
     ]
    }
   ],
   "source": [
    "raw_dat = pd.read_csv(\"../../raw_data/NonMajor_Safety_Raw.csv\", sep=',')\n",
    "raw_dat.info()"
   ]
  },
  {
   "cell_type": "markdown",
   "metadata": {},
   "source": [
    "`Additional Assault Information` is free-form input, which is not useful. We can get rid of that one. We also only have information of the capital expenditures for 2016 to 2022, so we only need to isolate those years."
   ]
  },
  {
   "cell_type": "code",
   "execution_count": 3,
   "metadata": {},
   "outputs": [],
   "source": [
    "raw_dat = raw_dat.drop(columns=['Additional Assault Information'])\n",
    "raw_dat = raw_dat[(2016 <= raw_dat['Year']) & (raw_dat['Year'] <= 2022)]"
   ]
  },
  {
   "cell_type": "code",
   "execution_count": 4,
   "metadata": {},
   "outputs": [
    {
     "name": "stdout",
     "output_type": "stream",
     "text": [
      "<class 'pandas.core.frame.DataFrame'>\n",
      "Index: 31838 entries, 11824 to 43661\n",
      "Data columns (total 19 columns):\n",
      " #   Column                                                                 Non-Null Count  Dtype \n",
      "---  ------                                                                 --------------  ----- \n",
      " 0   5 Digit NTD ID                                                         31838 non-null  int64 \n",
      " 1   Agency                                                                 31838 non-null  object\n",
      " 2   Mode                                                                   31838 non-null  object\n",
      " 3   Type of Service                                                        31838 non-null  object\n",
      " 4   Month                                                                  31838 non-null  object\n",
      " 5   Year                                                                   31838 non-null  int64 \n",
      " 6   Safety/Security                                                        31838 non-null  object\n",
      " 7   Event Type                                                             31838 non-null  object\n",
      " 8   Location                                                               31838 non-null  object\n",
      " 9   Location Group                                                         31838 non-null  object\n",
      " 10  Physical Assaults on Operators (Security Events Only)                  31838 non-null  int64 \n",
      " 11  Non-Physical Assaults on Operators (Security Events Only)              31838 non-null  int64 \n",
      " 12  Physical Assaults on Other Transit Workers (Security Events Only)      31838 non-null  int64 \n",
      " 13  Non-Physical Assaults on Other Transit Workers (Security Events Only)  31838 non-null  int64 \n",
      " 14  Total Events                                                           31838 non-null  object\n",
      " 15  Customer Injuries (Safety Events Only)                                 31838 non-null  int64 \n",
      " 16  Worker Injuries (Safety Events Only)                                   31838 non-null  int64 \n",
      " 17  Other Injuries (Safety Events Only)                                    31838 non-null  int64 \n",
      " 18  Total Injuries (Safety Events Only)                                    31838 non-null  int64 \n",
      "dtypes: int64(10), object(9)\n",
      "memory usage: 4.9+ MB\n"
     ]
    }
   ],
   "source": [
    "raw_dat.info()"
   ]
  },
  {
   "cell_type": "markdown",
   "metadata": {},
   "source": [
    "We are aggregating over the full years, so we can ignore the `Month` field, and we can also ignore `Type of Service`, since we are looking at transit agencies themselves, not the detailed specifics of the services they offer. We can also get rid of the `Location` category, since the `Location Group` includes broad details of the categories of the incident locations anyway."
   ]
  },
  {
   "cell_type": "code",
   "execution_count": 5,
   "metadata": {},
   "outputs": [
    {
     "name": "stdout",
     "output_type": "stream",
     "text": [
      "<class 'pandas.core.frame.DataFrame'>\n",
      "Index: 31838 entries, 11824 to 43661\n",
      "Data columns (total 16 columns):\n",
      " #   Column                                                                 Non-Null Count  Dtype \n",
      "---  ------                                                                 --------------  ----- \n",
      " 0   5 Digit NTD ID                                                         31838 non-null  int64 \n",
      " 1   Agency                                                                 31838 non-null  object\n",
      " 2   Mode                                                                   31838 non-null  object\n",
      " 3   Year                                                                   31838 non-null  int64 \n",
      " 4   Safety/Security                                                        31838 non-null  object\n",
      " 5   Event Type                                                             31838 non-null  object\n",
      " 6   Location Group                                                         31838 non-null  object\n",
      " 7   Physical Assaults on Operators (Security Events Only)                  31838 non-null  int64 \n",
      " 8   Non-Physical Assaults on Operators (Security Events Only)              31838 non-null  int64 \n",
      " 9   Physical Assaults on Other Transit Workers (Security Events Only)      31838 non-null  int64 \n",
      " 10  Non-Physical Assaults on Other Transit Workers (Security Events Only)  31838 non-null  int64 \n",
      " 11  Total Events                                                           31838 non-null  object\n",
      " 12  Customer Injuries (Safety Events Only)                                 31838 non-null  int64 \n",
      " 13  Worker Injuries (Safety Events Only)                                   31838 non-null  int64 \n",
      " 14  Other Injuries (Safety Events Only)                                    31838 non-null  int64 \n",
      " 15  Total Injuries (Safety Events Only)                                    31838 non-null  int64 \n",
      "dtypes: int64(10), object(6)\n",
      "memory usage: 4.1+ MB\n"
     ]
    }
   ],
   "source": [
    "raw_dat = raw_dat.drop(columns=['Month', 'Type of Service', 'Location', 'Location'])\n",
    "raw_dat.info()"
   ]
  },
  {
   "cell_type": "markdown",
   "metadata": {},
   "source": [
    "Based on the kind of data we want to use with the NTD data, keeping the `Event Type`, `Location Group`, and `Safety/Security` just gets in the way, since we want to aggregate the bulk numbers across the agencies. We also drop the `Agency` column, since the ID gets us there already."
   ]
  },
  {
   "cell_type": "code",
   "execution_count": 6,
   "metadata": {},
   "outputs": [],
   "source": [
    "raw_dat = raw_dat.drop(columns=['Safety/Security', 'Event Type', 'Location Group', 'Agency'])"
   ]
  },
  {
   "cell_type": "markdown",
   "metadata": {},
   "source": [
    "These entries are by month, so we need to group them by year and transit agency. The agencies have names, but even better, they have unique numeric identifiers. In addition, we need to group these by year."
   ]
  },
  {
   "cell_type": "code",
   "execution_count": 7,
   "metadata": {},
   "outputs": [],
   "source": [
    "dat_grouped = raw_dat.groupby(by = ['5 Digit NTD ID', 'Mode', 'Year'])"
   ]
  },
  {
   "cell_type": "code",
   "execution_count": 8,
   "metadata": {},
   "outputs": [
    {
     "data": {
      "text/html": [
       "<div>\n",
       "<style scoped>\n",
       "    .dataframe tbody tr th:only-of-type {\n",
       "        vertical-align: middle;\n",
       "    }\n",
       "\n",
       "    .dataframe tbody tr th {\n",
       "        vertical-align: top;\n",
       "    }\n",
       "\n",
       "    .dataframe thead th {\n",
       "        text-align: right;\n",
       "    }\n",
       "</style>\n",
       "<table border=\"1\" class=\"dataframe\">\n",
       "  <thead>\n",
       "    <tr style=\"text-align: right;\">\n",
       "      <th></th>\n",
       "      <th>5 Digit NTD ID</th>\n",
       "      <th>Mode</th>\n",
       "      <th>Year</th>\n",
       "      <th>Physical Assaults on Operators (Security Events Only)</th>\n",
       "      <th>Non-Physical Assaults on Operators (Security Events Only)</th>\n",
       "      <th>Physical Assaults on Other Transit Workers (Security Events Only)</th>\n",
       "      <th>Non-Physical Assaults on Other Transit Workers (Security Events Only)</th>\n",
       "      <th>Total Events</th>\n",
       "      <th>Customer Injuries (Safety Events Only)</th>\n",
       "      <th>Worker Injuries (Safety Events Only)</th>\n",
       "      <th>Other Injuries (Safety Events Only)</th>\n",
       "      <th>Total Injuries (Safety Events Only)</th>\n",
       "    </tr>\n",
       "  </thead>\n",
       "  <tbody>\n",
       "    <tr>\n",
       "      <th>2430</th>\n",
       "      <td>50518</td>\n",
       "      <td>DR</td>\n",
       "      <td>2019</td>\n",
       "      <td>0</td>\n",
       "      <td>0</td>\n",
       "      <td>0</td>\n",
       "      <td>0</td>\n",
       "      <td>1</td>\n",
       "      <td>1</td>\n",
       "      <td>0</td>\n",
       "      <td>0</td>\n",
       "      <td>1</td>\n",
       "    </tr>\n",
       "    <tr>\n",
       "      <th>991</th>\n",
       "      <td>30030</td>\n",
       "      <td>MB</td>\n",
       "      <td>2016</td>\n",
       "      <td>0</td>\n",
       "      <td>0</td>\n",
       "      <td>0</td>\n",
       "      <td>0</td>\n",
       "      <td>121</td>\n",
       "      <td>109</td>\n",
       "      <td>10</td>\n",
       "      <td>1</td>\n",
       "      <td>120</td>\n",
       "    </tr>\n",
       "    <tr>\n",
       "      <th>1626</th>\n",
       "      <td>40053</td>\n",
       "      <td>MB</td>\n",
       "      <td>2019</td>\n",
       "      <td>0</td>\n",
       "      <td>0</td>\n",
       "      <td>0</td>\n",
       "      <td>0</td>\n",
       "      <td>1</td>\n",
       "      <td>1</td>\n",
       "      <td>0</td>\n",
       "      <td>0</td>\n",
       "      <td>1</td>\n",
       "    </tr>\n",
       "    <tr>\n",
       "      <th>1705</th>\n",
       "      <td>40087</td>\n",
       "      <td>MB</td>\n",
       "      <td>2019</td>\n",
       "      <td>0</td>\n",
       "      <td>0</td>\n",
       "      <td>0</td>\n",
       "      <td>0</td>\n",
       "      <td>31</td>\n",
       "      <td>31</td>\n",
       "      <td>0</td>\n",
       "      <td>0</td>\n",
       "      <td>31</td>\n",
       "    </tr>\n",
       "    <tr>\n",
       "      <th>1487</th>\n",
       "      <td>40032</td>\n",
       "      <td>MB</td>\n",
       "      <td>2021</td>\n",
       "      <td>0</td>\n",
       "      <td>0</td>\n",
       "      <td>0</td>\n",
       "      <td>0</td>\n",
       "      <td>15</td>\n",
       "      <td>14</td>\n",
       "      <td>0</td>\n",
       "      <td>1</td>\n",
       "      <td>15</td>\n",
       "    </tr>\n",
       "    <tr>\n",
       "      <th>1320</th>\n",
       "      <td>40015</td>\n",
       "      <td>DR</td>\n",
       "      <td>2016</td>\n",
       "      <td>0</td>\n",
       "      <td>0</td>\n",
       "      <td>0</td>\n",
       "      <td>0</td>\n",
       "      <td>1</td>\n",
       "      <td>0</td>\n",
       "      <td>0</td>\n",
       "      <td>0</td>\n",
       "      <td>0</td>\n",
       "    </tr>\n",
       "    <tr>\n",
       "      <th>1988</th>\n",
       "      <td>50016</td>\n",
       "      <td>MB</td>\n",
       "      <td>2016</td>\n",
       "      <td>0</td>\n",
       "      <td>0</td>\n",
       "      <td>0</td>\n",
       "      <td>0</td>\n",
       "      <td>34</td>\n",
       "      <td>34</td>\n",
       "      <td>0</td>\n",
       "      <td>0</td>\n",
       "      <td>34</td>\n",
       "    </tr>\n",
       "  </tbody>\n",
       "</table>\n",
       "</div>"
      ],
      "text/plain": [
       "      5 Digit NTD ID Mode  Year  \\\n",
       "2430           50518   DR  2019   \n",
       "991            30030   MB  2016   \n",
       "1626           40053   MB  2019   \n",
       "1705           40087   MB  2019   \n",
       "1487           40032   MB  2021   \n",
       "1320           40015   DR  2016   \n",
       "1988           50016   MB  2016   \n",
       "\n",
       "      Physical Assaults on Operators (Security Events Only)  \\\n",
       "2430                                                  0       \n",
       "991                                                   0       \n",
       "1626                                                  0       \n",
       "1705                                                  0       \n",
       "1487                                                  0       \n",
       "1320                                                  0       \n",
       "1988                                                  0       \n",
       "\n",
       "      Non-Physical Assaults on Operators (Security Events Only)  \\\n",
       "2430                                                  0           \n",
       "991                                                   0           \n",
       "1626                                                  0           \n",
       "1705                                                  0           \n",
       "1487                                                  0           \n",
       "1320                                                  0           \n",
       "1988                                                  0           \n",
       "\n",
       "      Physical Assaults on Other Transit Workers (Security Events Only)  \\\n",
       "2430                                                  0                   \n",
       "991                                                   0                   \n",
       "1626                                                  0                   \n",
       "1705                                                  0                   \n",
       "1487                                                  0                   \n",
       "1320                                                  0                   \n",
       "1988                                                  0                   \n",
       "\n",
       "      Non-Physical Assaults on Other Transit Workers (Security Events Only)  \\\n",
       "2430                                                  0                       \n",
       "991                                                   0                       \n",
       "1626                                                  0                       \n",
       "1705                                                  0                       \n",
       "1487                                                  0                       \n",
       "1320                                                  0                       \n",
       "1988                                                  0                       \n",
       "\n",
       "     Total Events  Customer Injuries (Safety Events Only)  \\\n",
       "2430            1                                       1   \n",
       "991           121                                     109   \n",
       "1626            1                                       1   \n",
       "1705           31                                      31   \n",
       "1487           15                                      14   \n",
       "1320            1                                       0   \n",
       "1988           34                                      34   \n",
       "\n",
       "      Worker Injuries (Safety Events Only)  \\\n",
       "2430                                     0   \n",
       "991                                     10   \n",
       "1626                                     0   \n",
       "1705                                     0   \n",
       "1487                                     0   \n",
       "1320                                     0   \n",
       "1988                                     0   \n",
       "\n",
       "      Other Injuries (Safety Events Only)  Total Injuries (Safety Events Only)  \n",
       "2430                                    0                                    1  \n",
       "991                                     1                                  120  \n",
       "1626                                    0                                    1  \n",
       "1705                                    0                                   31  \n",
       "1487                                    1                                   15  \n",
       "1320                                    0                                    0  \n",
       "1988                                    0                                   34  "
      ]
     },
     "execution_count": 8,
     "metadata": {},
     "output_type": "execute_result"
    }
   ],
   "source": [
    "agg_safety = dat_grouped.sum().reset_index()\n",
    "agg_safety.sample(7)"
   ]
  },
  {
   "cell_type": "code",
   "execution_count": 9,
   "metadata": {},
   "outputs": [
    {
     "name": "stdout",
     "output_type": "stream",
     "text": [
      "<class 'pandas.core.frame.DataFrame'>\n",
      "RangeIndex: 3677 entries, 0 to 3676\n",
      "Data columns (total 12 columns):\n",
      " #   Column                                                                 Non-Null Count  Dtype \n",
      "---  ------                                                                 --------------  ----- \n",
      " 0   5 Digit NTD ID                                                         3677 non-null   int64 \n",
      " 1   Mode                                                                   3677 non-null   object\n",
      " 2   Year                                                                   3677 non-null   int64 \n",
      " 3   Physical Assaults on Operators (Security Events Only)                  3677 non-null   int64 \n",
      " 4   Non-Physical Assaults on Operators (Security Events Only)              3677 non-null   int64 \n",
      " 5   Physical Assaults on Other Transit Workers (Security Events Only)      3677 non-null   int64 \n",
      " 6   Non-Physical Assaults on Other Transit Workers (Security Events Only)  3677 non-null   int64 \n",
      " 7   Total Events                                                           3677 non-null   object\n",
      " 8   Customer Injuries (Safety Events Only)                                 3677 non-null   int64 \n",
      " 9   Worker Injuries (Safety Events Only)                                   3677 non-null   int64 \n",
      " 10  Other Injuries (Safety Events Only)                                    3677 non-null   int64 \n",
      " 11  Total Injuries (Safety Events Only)                                    3677 non-null   int64 \n",
      "dtypes: int64(10), object(2)\n",
      "memory usage: 344.8+ KB\n"
     ]
    }
   ],
   "source": [
    "agg_safety.info()"
   ]
  },
  {
   "cell_type": "markdown",
   "metadata": {},
   "source": [
    "One can verify that the \"Security Events\" columns are all zero, and so we will remove them from the data to be analyzed, since they provide no information."
   ]
  },
  {
   "cell_type": "code",
   "execution_count": 10,
   "metadata": {},
   "outputs": [
    {
     "name": "stdout",
     "output_type": "stream",
     "text": [
      "<class 'pandas.core.frame.DataFrame'>\n",
      "RangeIndex: 3677 entries, 0 to 3676\n",
      "Data columns (total 8 columns):\n",
      " #   Column                                  Non-Null Count  Dtype \n",
      "---  ------                                  --------------  ----- \n",
      " 0   5 Digit NTD ID                          3677 non-null   int64 \n",
      " 1   Mode                                    3677 non-null   object\n",
      " 2   Year                                    3677 non-null   int64 \n",
      " 3   Total Events                            3677 non-null   object\n",
      " 4   Customer Injuries (Safety Events Only)  3677 non-null   int64 \n",
      " 5   Worker Injuries (Safety Events Only)    3677 non-null   int64 \n",
      " 6   Other Injuries (Safety Events Only)     3677 non-null   int64 \n",
      " 7   Total Injuries (Safety Events Only)     3677 non-null   int64 \n",
      "dtypes: int64(6), object(2)\n",
      "memory usage: 229.9+ KB\n"
     ]
    }
   ],
   "source": [
    "agg_safety.drop(columns=agg_safety.columns[3:7], inplace=True)\n",
    "agg_safety.info()"
   ]
  },
  {
   "cell_type": "code",
   "execution_count": 11,
   "metadata": {},
   "outputs": [
    {
     "name": "stdout",
     "output_type": "stream",
     "text": [
      "<class 'pandas.core.frame.DataFrame'>\n",
      "RangeIndex: 3677 entries, 0 to 3676\n",
      "Data columns (total 8 columns):\n",
      " #   Column                 Non-Null Count  Dtype \n",
      "---  ------                 --------------  ----- \n",
      " 0   NTD ID                 3677 non-null   object\n",
      " 1   Mode                   3677 non-null   object\n",
      " 2   Year                   3677 non-null   int64 \n",
      " 3   Total Minor Incidents  3677 non-null   int64 \n",
      " 4   Customer Injuries      3677 non-null   int64 \n",
      " 5   Worker Injuries        3677 non-null   int64 \n",
      " 6   Other Injuries         3677 non-null   int64 \n",
      " 7   Total Injuries         3677 non-null   int64 \n",
      "dtypes: int64(6), object(2)\n",
      "memory usage: 229.9+ KB\n"
     ]
    }
   ],
   "source": [
    "# Rename the columns for easier access.\n",
    "agg_safety.columns = ['NTD ID', 'Mode', 'Year', 'Total Minor Incidents', 'Customer Injuries',\n",
    "                      'Worker Injuries', 'Other Injuries', 'Total Injuries']\n",
    "agg_safety['Total Minor Incidents'] = agg_safety['Total Minor Incidents'].astype('int64')\n",
    "agg_safety['NTD ID'] = [f\"{num:05d}\" for num in agg_safety['NTD ID']]\n",
    "agg_safety.info()"
   ]
  },
  {
   "cell_type": "code",
   "execution_count": 12,
   "metadata": {},
   "outputs": [],
   "source": [
    "agg_safety.to_csv('../data/NTD_NonMajor_Safety_Incidents.csv', index=False)"
   ]
  },
  {
   "cell_type": "markdown",
   "metadata": {},
   "source": [
    "## Major Incidents Data"
   ]
  },
  {
   "cell_type": "markdown",
   "metadata": {},
   "source": [
    "We next process the major incidents data for the given systems. The information is given in https://data.transportation.gov/Public-Transit/Major-Safety-Events/9ivb-8ae9/about_data."
   ]
  },
  {
   "cell_type": "code",
   "execution_count": null,
   "metadata": {},
   "outputs": [
    {
     "name": "stderr",
     "output_type": "stream",
     "text": [
      "/var/folders/0c/8jgwlmw579z5xqz61k4vsvcm0000gp/T/ipykernel_78283/228331357.py:1: DtypeWarning: Columns (20,24,43,44,47,50,51,59,60) have mixed types. Specify dtype option on import or set low_memory=False.\n",
      "  major_raw = pd.read_csv(\"../data dump/Major_Safety_Raw.csv\")\n"
     ]
    }
   ],
   "source": [
    "major_raw = pd.read_csv(\"../../raw_data/Major_Safety_Raw.csv\")"
   ]
  },
  {
   "cell_type": "code",
   "execution_count": 14,
   "metadata": {},
   "outputs": [],
   "source": [
    "# Too many columns to print with info, so we put them in a text file for reference.\n",
    "cols = np.array(major_raw.columns)\n",
    "cols.tofile('major_cols.txt', sep='\\n')"
   ]
  },
  {
   "cell_type": "markdown",
   "metadata": {},
   "source": [
    "The dataset catalogs individual incidents across transit agencies, but we want aggregated numbers for each year by agency and transit mode. This means that we are going to remove information that cannot be summed, which translates to removing non-numerical fields from the datasets. Admittedly, it would take away information if we were interested in the details of the accidents, but for the questions we want to address, we are primarily interested in the general safety records of the agencies. There are a lot of columns, so let's get to pruning."
   ]
  },
  {
   "cell_type": "code",
   "execution_count": 15,
   "metadata": {},
   "outputs": [],
   "source": [
    "idx_to_rm = [np.arange(start=9, stop=23), [24], [27], np.arange(start=32, stop=68), \n",
    "             np.arange(start=69, stop=72), [112]]\n",
    "rm_flat = []\n",
    "for sublist in idx_to_rm:\n",
    "    rm_flat.extend(sublist)"
   ]
  },
  {
   "cell_type": "code",
   "execution_count": 16,
   "metadata": {},
   "outputs": [],
   "source": [
    "major_raw.drop(columns=major_raw.columns[rm_flat], inplace=True)"
   ]
  },
  {
   "cell_type": "code",
   "execution_count": 17,
   "metadata": {},
   "outputs": [
    {
     "name": "stdout",
     "output_type": "stream",
     "text": [
      "<class 'pandas.core.frame.DataFrame'>\n",
      "RangeIndex: 94961 entries, 0 to 94960\n",
      "Data columns (total 57 columns):\n",
      " #   Column                                            Non-Null Count  Dtype  \n",
      "---  ------                                            --------------  -----  \n",
      " 0   NTD ID                                            94961 non-null  int64  \n",
      " 1   Agency                                            94961 non-null  object \n",
      " 2   Primary UZA UACE Code                             94961 non-null  int64  \n",
      " 3   Rail/Bus/Ferry                                    94961 non-null  object \n",
      " 4   Mode Name                                         94961 non-null  object \n",
      " 5   Mode                                              94961 non-null  object \n",
      " 6   Type of Service                                   94961 non-null  object \n",
      " 7   Fixed Route Flag                                  94961 non-null  bool   \n",
      " 8   Year                                              94961 non-null  int64  \n",
      " 9   Property Damage                                   74925 non-null  float64\n",
      " 10  Total Injuries                                    94961 non-null  int64  \n",
      " 11  Total Fatalities                                  94961 non-null  int64  \n",
      " 12  Number of Transit Vehicles Involved               94961 non-null  int64  \n",
      " 13  Number of Vehicles Involved                       94961 non-null  int64  \n",
      " 14  Number of Cars on Involved Transit Vehicles       94961 non-null  int64  \n",
      " 15  Number of Derailed Vehicles                       12186 non-null  float64\n",
      " 16  Vehicle Speed                                     72101 non-null  float64\n",
      " 17  Transit Vehicle Rider Fatalities                  94961 non-null  int64  \n",
      " 18  People Waiting or Leaving Fatalities              94961 non-null  int64  \n",
      " 19  Transit Vehicle Operator Fatalities               94961 non-null  int64  \n",
      " 20  Transit Employee Fatalities                       94961 non-null  int64  \n",
      " 21  Other Worker Fatalities                           94961 non-null  int64  \n",
      " 22  Bicyclist Fatalities                              94961 non-null  int64  \n",
      " 23  Pedestrian in Crosswalk Fatalities                94961 non-null  int64  \n",
      " 24  Pedestrian Not in Crosswalk Fatalities            94961 non-null  int64  \n",
      " 25  Pedestrian Crossing Tracks Fatalities             94961 non-null  int64  \n",
      " 26  Pedestrian Walking Along Tracks Fatalities        94961 non-null  int64  \n",
      " 27  Occupant of Other Vehicle Fatalities              94961 non-null  int64  \n",
      " 28  Other Fatalities                                  94961 non-null  int64  \n",
      " 29  Suicide Fatalities                                94961 non-null  int64  \n",
      " 30  Transit Vehicle Rider Injuries                    94961 non-null  int64  \n",
      " 31  Transit Vehicle Rider Serious Injuries            94961 non-null  int64  \n",
      " 32  People Waiting or Leaving Injuries                94961 non-null  int64  \n",
      " 33  People Waiting or Leaving Serious Injuries        94961 non-null  int64  \n",
      " 34  Transit Vehicle Operator Injuries                 94961 non-null  int64  \n",
      " 35  Transit Vehicle Operator Serious Injuries         94961 non-null  int64  \n",
      " 36  Transit Employee Injuries                         94961 non-null  int64  \n",
      " 37  Transit Employee Serious Injuries                 94961 non-null  int64  \n",
      " 38  Other Worker Injuries                             94961 non-null  int64  \n",
      " 39  Other Worker Serious Injuries                     94961 non-null  int64  \n",
      " 40  Bicyclist Injuries                                94961 non-null  int64  \n",
      " 41  Bicyclist Serious Injuries                        94961 non-null  int64  \n",
      " 42  Pedestrian in Crosswalk Injuries                  94961 non-null  int64  \n",
      " 43  Pedestrian in Crosswalk Serious Injuries          94961 non-null  int64  \n",
      " 44  Pedestrian Not in Crosswalk Injuries              94961 non-null  int64  \n",
      " 45  Pedestrian Not in Crosswalk Serious Injuries      94961 non-null  int64  \n",
      " 46  Pedestrian Crossing Tracks Injuries               94961 non-null  int64  \n",
      " 47  Pedestrian Crossing Tracks Serious Injuries       94961 non-null  int64  \n",
      " 48  Pedestrian Walking Along Tracks Injuries          94961 non-null  int64  \n",
      " 49  Pedestrian Walking Along Tracks Serious Injuries  94961 non-null  int64  \n",
      " 50  Occupant of Other Vehicle Injuries                94961 non-null  int64  \n",
      " 51  Occupant of Other Vehicle Serious Injuries        94961 non-null  int64  \n",
      " 52  Other Injuries                                    94961 non-null  int64  \n",
      " 53  Other Serious Injuries                            94961 non-null  int64  \n",
      " 54  Suicide Injuries                                  94961 non-null  int64  \n",
      " 55  Suicide Serious Injuries                          94961 non-null  int64  \n",
      " 56  Total Serious Injuries                            94961 non-null  int64  \n",
      "dtypes: bool(1), float64(3), int64(48), object(5)\n",
      "memory usage: 40.7+ MB\n"
     ]
    }
   ],
   "source": [
    "major_raw.info()"
   ]
  },
  {
   "cell_type": "code",
   "execution_count": 18,
   "metadata": {},
   "outputs": [
    {
     "name": "stdout",
     "output_type": "stream",
     "text": [
      "<class 'pandas.core.frame.DataFrame'>\n",
      "RangeIndex: 94961 entries, 0 to 94960\n",
      "Data columns (total 51 columns):\n",
      " #   Column                                            Non-Null Count  Dtype  \n",
      "---  ------                                            --------------  -----  \n",
      " 0   NTD ID                                            94961 non-null  int64  \n",
      " 1   Mode                                              94961 non-null  object \n",
      " 2   Year                                              94961 non-null  int64  \n",
      " 3   Property Damage                                   74925 non-null  float64\n",
      " 4   Total Injuries                                    94961 non-null  int64  \n",
      " 5   Total Fatalities                                  94961 non-null  int64  \n",
      " 6   Number of Transit Vehicles Involved               94961 non-null  int64  \n",
      " 7   Number of Vehicles Involved                       94961 non-null  int64  \n",
      " 8   Number of Cars on Involved Transit Vehicles       94961 non-null  int64  \n",
      " 9   Number of Derailed Vehicles                       12186 non-null  float64\n",
      " 10  Vehicle Speed                                     72101 non-null  float64\n",
      " 11  Transit Vehicle Rider Fatalities                  94961 non-null  int64  \n",
      " 12  People Waiting or Leaving Fatalities              94961 non-null  int64  \n",
      " 13  Transit Vehicle Operator Fatalities               94961 non-null  int64  \n",
      " 14  Transit Employee Fatalities                       94961 non-null  int64  \n",
      " 15  Other Worker Fatalities                           94961 non-null  int64  \n",
      " 16  Bicyclist Fatalities                              94961 non-null  int64  \n",
      " 17  Pedestrian in Crosswalk Fatalities                94961 non-null  int64  \n",
      " 18  Pedestrian Not in Crosswalk Fatalities            94961 non-null  int64  \n",
      " 19  Pedestrian Crossing Tracks Fatalities             94961 non-null  int64  \n",
      " 20  Pedestrian Walking Along Tracks Fatalities        94961 non-null  int64  \n",
      " 21  Occupant of Other Vehicle Fatalities              94961 non-null  int64  \n",
      " 22  Other Fatalities                                  94961 non-null  int64  \n",
      " 23  Suicide Fatalities                                94961 non-null  int64  \n",
      " 24  Transit Vehicle Rider Injuries                    94961 non-null  int64  \n",
      " 25  Transit Vehicle Rider Serious Injuries            94961 non-null  int64  \n",
      " 26  People Waiting or Leaving Injuries                94961 non-null  int64  \n",
      " 27  People Waiting or Leaving Serious Injuries        94961 non-null  int64  \n",
      " 28  Transit Vehicle Operator Injuries                 94961 non-null  int64  \n",
      " 29  Transit Vehicle Operator Serious Injuries         94961 non-null  int64  \n",
      " 30  Transit Employee Injuries                         94961 non-null  int64  \n",
      " 31  Transit Employee Serious Injuries                 94961 non-null  int64  \n",
      " 32  Other Worker Injuries                             94961 non-null  int64  \n",
      " 33  Other Worker Serious Injuries                     94961 non-null  int64  \n",
      " 34  Bicyclist Injuries                                94961 non-null  int64  \n",
      " 35  Bicyclist Serious Injuries                        94961 non-null  int64  \n",
      " 36  Pedestrian in Crosswalk Injuries                  94961 non-null  int64  \n",
      " 37  Pedestrian in Crosswalk Serious Injuries          94961 non-null  int64  \n",
      " 38  Pedestrian Not in Crosswalk Injuries              94961 non-null  int64  \n",
      " 39  Pedestrian Not in Crosswalk Serious Injuries      94961 non-null  int64  \n",
      " 40  Pedestrian Crossing Tracks Injuries               94961 non-null  int64  \n",
      " 41  Pedestrian Crossing Tracks Serious Injuries       94961 non-null  int64  \n",
      " 42  Pedestrian Walking Along Tracks Injuries          94961 non-null  int64  \n",
      " 43  Pedestrian Walking Along Tracks Serious Injuries  94961 non-null  int64  \n",
      " 44  Occupant of Other Vehicle Injuries                94961 non-null  int64  \n",
      " 45  Occupant of Other Vehicle Serious Injuries        94961 non-null  int64  \n",
      " 46  Other Injuries                                    94961 non-null  int64  \n",
      " 47  Other Serious Injuries                            94961 non-null  int64  \n",
      " 48  Suicide Injuries                                  94961 non-null  int64  \n",
      " 49  Suicide Serious Injuries                          94961 non-null  int64  \n",
      " 50  Total Serious Injuries                            94961 non-null  int64  \n",
      "dtypes: float64(3), int64(47), object(1)\n",
      "memory usage: 36.9+ MB\n"
     ]
    }
   ],
   "source": [
    "# Remove last few columns we need to.\n",
    "major_raw.drop(columns=['Agency', 'Primary UZA UACE Code', 'Rail/Bus/Ferry', 'Mode Name',\n",
    "                        'Type of Service', 'Fixed Route Flag'], inplace=True)\n",
    "major_raw.info()"
   ]
  },
  {
   "cell_type": "code",
   "execution_count": 19,
   "metadata": {},
   "outputs": [
    {
     "data": {
      "text/plain": [
       "(62790, 51)"
      ]
     },
     "execution_count": 19,
     "metadata": {},
     "output_type": "execute_result"
    }
   ],
   "source": [
    "# Select only incidents occuring between 2016 and 2022.\n",
    "major_raw = major_raw[(major_raw['Year'] >= 2016) & (major_raw['Year'] <= 2022)]\n",
    "major_raw.shape"
   ]
  },
  {
   "cell_type": "code",
   "execution_count": 20,
   "metadata": {},
   "outputs": [],
   "source": [
    "#Create the grouped object on which we will perform the operations.\n",
    "major_grouped = major_raw.groupby(by=['NTD ID', 'Mode', 'Year'])"
   ]
  },
  {
   "cell_type": "code",
   "execution_count": 21,
   "metadata": {},
   "outputs": [
    {
     "data": {
      "text/html": [
       "<div>\n",
       "<style scoped>\n",
       "    .dataframe tbody tr th:only-of-type {\n",
       "        vertical-align: middle;\n",
       "    }\n",
       "\n",
       "    .dataframe tbody tr th {\n",
       "        vertical-align: top;\n",
       "    }\n",
       "\n",
       "    .dataframe thead th {\n",
       "        text-align: right;\n",
       "    }\n",
       "</style>\n",
       "<table border=\"1\" class=\"dataframe\">\n",
       "  <thead>\n",
       "    <tr style=\"text-align: right;\">\n",
       "      <th></th>\n",
       "      <th>NTD ID</th>\n",
       "      <th>Mode</th>\n",
       "      <th>Year</th>\n",
       "      <th>Number of Transit Vehicles Involved</th>\n",
       "      <th>Number of Vehicles Involved</th>\n",
       "      <th>Number of Cars on Involved Transit Vehicles</th>\n",
       "      <th>Number of Derailed Vehicles</th>\n",
       "      <th>Vehicle Speed</th>\n",
       "    </tr>\n",
       "  </thead>\n",
       "  <tbody>\n",
       "    <tr>\n",
       "      <th>0</th>\n",
       "      <td>1</td>\n",
       "      <td>MB</td>\n",
       "      <td>2016</td>\n",
       "      <td>1.0</td>\n",
       "      <td>0.0</td>\n",
       "      <td>0.0</td>\n",
       "      <td>NaN</td>\n",
       "      <td>15.0</td>\n",
       "    </tr>\n",
       "    <tr>\n",
       "      <th>1</th>\n",
       "      <td>1</td>\n",
       "      <td>MB</td>\n",
       "      <td>2017</td>\n",
       "      <td>1.0</td>\n",
       "      <td>0.0</td>\n",
       "      <td>0.0</td>\n",
       "      <td>NaN</td>\n",
       "      <td>15.0</td>\n",
       "    </tr>\n",
       "    <tr>\n",
       "      <th>2</th>\n",
       "      <td>1</td>\n",
       "      <td>MB</td>\n",
       "      <td>2018</td>\n",
       "      <td>1.0</td>\n",
       "      <td>1.0</td>\n",
       "      <td>0.0</td>\n",
       "      <td>NaN</td>\n",
       "      <td>5.0</td>\n",
       "    </tr>\n",
       "    <tr>\n",
       "      <th>3</th>\n",
       "      <td>1</td>\n",
       "      <td>MB</td>\n",
       "      <td>2019</td>\n",
       "      <td>1.0</td>\n",
       "      <td>0.0</td>\n",
       "      <td>0.0</td>\n",
       "      <td>NaN</td>\n",
       "      <td>15.0</td>\n",
       "    </tr>\n",
       "    <tr>\n",
       "      <th>4</th>\n",
       "      <td>1</td>\n",
       "      <td>MB</td>\n",
       "      <td>2020</td>\n",
       "      <td>1.0</td>\n",
       "      <td>1.0</td>\n",
       "      <td>0.0</td>\n",
       "      <td>NaN</td>\n",
       "      <td>10.0</td>\n",
       "    </tr>\n",
       "  </tbody>\n",
       "</table>\n",
       "</div>"
      ],
      "text/plain": [
       "   NTD ID Mode  Year  Number of Transit Vehicles Involved  \\\n",
       "0       1   MB  2016                                  1.0   \n",
       "1       1   MB  2017                                  1.0   \n",
       "2       1   MB  2018                                  1.0   \n",
       "3       1   MB  2019                                  1.0   \n",
       "4       1   MB  2020                                  1.0   \n",
       "\n",
       "   Number of Vehicles Involved  Number of Cars on Involved Transit Vehicles  \\\n",
       "0                          0.0                                          0.0   \n",
       "1                          0.0                                          0.0   \n",
       "2                          1.0                                          0.0   \n",
       "3                          0.0                                          0.0   \n",
       "4                          1.0                                          0.0   \n",
       "\n",
       "   Number of Derailed Vehicles  Vehicle Speed  \n",
       "0                          NaN           15.0  \n",
       "1                          NaN           15.0  \n",
       "2                          NaN            5.0  \n",
       "3                          NaN           15.0  \n",
       "4                          NaN           10.0  "
      ]
     },
     "execution_count": 21,
     "metadata": {},
     "output_type": "execute_result"
    }
   ],
   "source": [
    "# The information specifying the number of vehicles involved in an accident is more amenable to something like the median, since \n",
    "# it tells us the usual severity of the major incidents. It might not give much information, in which case we can\n",
    "# drop the columns. Vehicle speed could be a useful proxy, however, though since it is vehicle speed at time of accident,\n",
    "# it might not tell us much about how fast the vehicles move.\n",
    "med_cols = major_grouped[['Number of Transit Vehicles Involved', 'Number of Vehicles Involved',\n",
    "              'Number of Cars on Involved Transit Vehicles', 'Number of Derailed Vehicles', 'Vehicle Speed']].median()\n",
    "med_cols = med_cols.reset_index()\n",
    "med_cols.head()"
   ]
  },
  {
   "cell_type": "code",
   "execution_count": 22,
   "metadata": {},
   "outputs": [],
   "source": [
    "sum_cols = major_raw.drop(columns=['Number of Transit Vehicles Involved', 'Number of Vehicles Involved',\n",
    "                                   'Number of Cars on Involved Transit Vehicles', 'Number of Derailed Vehicles',\n",
    "                                   'Vehicle Speed'])\n",
    "sum_cols = sum_cols.groupby(by=['NTD ID', 'Mode', 'Year'])\n",
    "sum_cols = sum_cols.sum().reset_index()"
   ]
  },
  {
   "cell_type": "markdown",
   "metadata": {},
   "source": [
    "We've completed the aggregation on both groups. Before merging, I want to check the median columns to see if they're actually telling us anything."
   ]
  },
  {
   "cell_type": "code",
   "execution_count": 23,
   "metadata": {},
   "outputs": [
    {
     "name": "stdout",
     "output_type": "stream",
     "text": [
      "[3725 3725 3725 3452 3096  298   71 3276]\n"
     ]
    }
   ],
   "source": [
    "print(np.count_nonzero(med_cols.fillna(0), axis=0))"
   ]
  },
  {
   "cell_type": "markdown",
   "metadata": {},
   "source": [
    "It looks like the `Number of Cars on Involved Transit Vehicles` and `Number of Derailed Vehicles` columns have the vast majority of their values being either NA or 0. That's not ideal, but maybe it's a bit better for the rail specific modes?"
   ]
  },
  {
   "cell_type": "code",
   "execution_count": 24,
   "metadata": {},
   "outputs": [
    {
     "data": {
      "text/plain": [
       "array([1376, 1376, 1376, 1248, 1084,  286,   69, 1226])"
      ]
     },
     "execution_count": 24,
     "metadata": {},
     "output_type": "execute_result"
    }
   ],
   "source": [
    "import re\n",
    "np.count_nonzero(med_cols[[re.match(r\"[A-Z]R\", s) is not None for s in med_cols['Mode']]].fillna(0),\n",
    "                 axis=0)"
   ]
  },
  {
   "cell_type": "markdown",
   "metadata": {},
   "source": [
    "It's really not. We can get rid of those two columns."
   ]
  },
  {
   "cell_type": "code",
   "execution_count": 25,
   "metadata": {},
   "outputs": [],
   "source": [
    "med_cols.drop(columns=['Number of Derailed Vehicles',\n",
    "                       'Number of Cars on Involved Transit Vehicles'], inplace=True)"
   ]
  },
  {
   "cell_type": "code",
   "execution_count": 26,
   "metadata": {},
   "outputs": [
    {
     "name": "stdout",
     "output_type": "stream",
     "text": [
      "<class 'pandas.core.frame.DataFrame'>\n",
      "RangeIndex: 3725 entries, 0 to 3724\n",
      "Data columns (total 6 columns):\n",
      " #   Column                            Non-Null Count  Dtype  \n",
      "---  ------                            --------------  -----  \n",
      " 0   NTD ID                            3725 non-null   int64  \n",
      " 1   Mode                              3725 non-null   object \n",
      " 2   Year                              3725 non-null   int64  \n",
      " 3   Median Transit Vehicles Involved  3725 non-null   float64\n",
      " 4   Median Vehicles Involved          3725 non-null   float64\n",
      " 5   Median Vehicle Speed              3591 non-null   float64\n",
      "dtypes: float64(3), int64(2), object(1)\n",
      "memory usage: 174.7+ KB\n"
     ]
    }
   ],
   "source": [
    "med_cols.columns = ['NTD ID', 'Mode', 'Year', 'Median Transit Vehicles Involved', 'Median Vehicles Involved', 'Median Vehicle Speed']\n",
    "med_cols.info()"
   ]
  },
  {
   "cell_type": "markdown",
   "metadata": {},
   "source": [
    "Now we are ready to merge the two data frames into one dataset, which we can then export. Here we go."
   ]
  },
  {
   "cell_type": "code",
   "execution_count": 27,
   "metadata": {},
   "outputs": [
    {
     "name": "stdout",
     "output_type": "stream",
     "text": [
      "(3725, 6)\n",
      "(3725, 46)\n"
     ]
    }
   ],
   "source": [
    "print(med_cols.shape)\n",
    "print(sum_cols.shape)"
   ]
  },
  {
   "cell_type": "code",
   "execution_count": 28,
   "metadata": {},
   "outputs": [],
   "source": [
    "major_data = sum_cols.merge(med_cols, on=['NTD ID', 'Mode', 'Year'])"
   ]
  },
  {
   "cell_type": "code",
   "execution_count": 29,
   "metadata": {},
   "outputs": [
    {
     "data": {
      "text/plain": [
       "(3725, 49)"
      ]
     },
     "execution_count": 29,
     "metadata": {},
     "output_type": "execute_result"
    }
   ],
   "source": [
    "major_data.shape"
   ]
  },
  {
   "cell_type": "code",
   "execution_count": 30,
   "metadata": {},
   "outputs": [
    {
     "name": "stdout",
     "output_type": "stream",
     "text": [
      "<class 'pandas.core.frame.DataFrame'>\n",
      "RangeIndex: 3725 entries, 0 to 3724\n",
      "Data columns (total 49 columns):\n",
      " #   Column                                            Non-Null Count  Dtype  \n",
      "---  ------                                            --------------  -----  \n",
      " 0   NTD ID                                            3725 non-null   object \n",
      " 1   Mode                                              3725 non-null   object \n",
      " 2   Year                                              3725 non-null   int64  \n",
      " 3   Property Damage                                   3725 non-null   float64\n",
      " 4   Total Injuries                                    3725 non-null   int64  \n",
      " 5   Total Fatalities                                  3725 non-null   int64  \n",
      " 6   Transit Vehicle Rider Fatalities                  3725 non-null   int64  \n",
      " 7   People Waiting or Leaving Fatalities              3725 non-null   int64  \n",
      " 8   Transit Vehicle Operator Fatalities               3725 non-null   int64  \n",
      " 9   Transit Employee Fatalities                       3725 non-null   int64  \n",
      " 10  Other Worker Fatalities                           3725 non-null   int64  \n",
      " 11  Bicyclist Fatalities                              3725 non-null   int64  \n",
      " 12  Pedestrian in Crosswalk Fatalities                3725 non-null   int64  \n",
      " 13  Pedestrian Not in Crosswalk Fatalities            3725 non-null   int64  \n",
      " 14  Pedestrian Crossing Tracks Fatalities             3725 non-null   int64  \n",
      " 15  Pedestrian Walking Along Tracks Fatalities        3725 non-null   int64  \n",
      " 16  Occupant of Other Vehicle Fatalities              3725 non-null   int64  \n",
      " 17  Other Fatalities                                  3725 non-null   int64  \n",
      " 18  Suicide Fatalities                                3725 non-null   int64  \n",
      " 19  Transit Vehicle Rider Injuries                    3725 non-null   int64  \n",
      " 20  Transit Vehicle Rider Serious Injuries            3725 non-null   int64  \n",
      " 21  People Waiting or Leaving Injuries                3725 non-null   int64  \n",
      " 22  People Waiting or Leaving Serious Injuries        3725 non-null   int64  \n",
      " 23  Transit Vehicle Operator Injuries                 3725 non-null   int64  \n",
      " 24  Transit Vehicle Operator Serious Injuries         3725 non-null   int64  \n",
      " 25  Transit Employee Injuries                         3725 non-null   int64  \n",
      " 26  Transit Employee Serious Injuries                 3725 non-null   int64  \n",
      " 27  Other Worker Injuries                             3725 non-null   int64  \n",
      " 28  Other Worker Serious Injuries                     3725 non-null   int64  \n",
      " 29  Bicyclist Injuries                                3725 non-null   int64  \n",
      " 30  Bicyclist Serious Injuries                        3725 non-null   int64  \n",
      " 31  Pedestrian in Crosswalk Injuries                  3725 non-null   int64  \n",
      " 32  Pedestrian in Crosswalk Serious Injuries          3725 non-null   int64  \n",
      " 33  Pedestrian Not in Crosswalk Injuries              3725 non-null   int64  \n",
      " 34  Pedestrian Not in Crosswalk Serious Injuries      3725 non-null   int64  \n",
      " 35  Pedestrian Crossing Tracks Injuries               3725 non-null   int64  \n",
      " 36  Pedestrian Crossing Tracks Serious Injuries       3725 non-null   int64  \n",
      " 37  Pedestrian Walking Along Tracks Injuries          3725 non-null   int64  \n",
      " 38  Pedestrian Walking Along Tracks Serious Injuries  3725 non-null   int64  \n",
      " 39  Occupant of Other Vehicle Injuries                3725 non-null   int64  \n",
      " 40  Occupant of Other Vehicle Serious Injuries        3725 non-null   int64  \n",
      " 41  Other Injuries                                    3725 non-null   int64  \n",
      " 42  Other Serious Injuries                            3725 non-null   int64  \n",
      " 43  Suicide Injuries                                  3725 non-null   int64  \n",
      " 44  Suicide Serious Injuries                          3725 non-null   int64  \n",
      " 45  Total Serious Injuries                            3725 non-null   int64  \n",
      " 46  Median Transit Vehicles Involved                  3725 non-null   float64\n",
      " 47  Median Vehicles Involved                          3725 non-null   float64\n",
      " 48  Median Vehicle Speed                              3591 non-null   float64\n",
      "dtypes: float64(4), int64(43), object(2)\n",
      "memory usage: 1.4+ MB\n"
     ]
    }
   ],
   "source": [
    "major_data['NTD ID'] = [f\"{num:05d}\" for num in major_data['NTD ID']]\n",
    "major_data.info()"
   ]
  },
  {
   "cell_type": "code",
   "execution_count": null,
   "metadata": {},
   "outputs": [],
   "source": [
    "major_data.to_csv('../../data/NTD_Major_Safety_Incidents.csv', sep=',', index=False)"
   ]
  }
 ],
 "metadata": {
  "kernelspec": {
   "display_name": ".venv",
   "language": "python",
   "name": "python3"
  },
  "language_info": {
   "codemirror_mode": {
    "name": "ipython",
    "version": 3
   },
   "file_extension": ".py",
   "mimetype": "text/x-python",
   "name": "python",
   "nbconvert_exporter": "python",
   "pygments_lexer": "ipython3",
   "version": "3.12.7"
  }
 },
 "nbformat": 4,
 "nbformat_minor": 2
}
