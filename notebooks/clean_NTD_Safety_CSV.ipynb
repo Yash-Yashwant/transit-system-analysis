{
 "cells": [
  {
   "cell_type": "code",
   "execution_count": 41,
   "metadata": {},
   "outputs": [],
   "source": [
    "import pandas as pd\n",
    "import numpy as np"
   ]
  },
  {
   "cell_type": "markdown",
   "metadata": {},
   "source": [
    "## Non-Major Incidents Data"
   ]
  },
  {
   "cell_type": "markdown",
   "metadata": {},
   "source": [
    "The safety dataset is composed of individual records of minor safety incidents from 2008 to 2024. The URL describing the dataset is given by https://data.transportation.gov/Public-Transit/Non-Major-Safety-and-Security-Events/urir-txqm/about_data."
   ]
  },
  {
   "cell_type": "code",
   "execution_count": null,
   "metadata": {},
   "outputs": [
    {
     "name": "stdout",
     "output_type": "stream",
     "text": [
      "<class 'pandas.core.frame.DataFrame'>\n",
      "RangeIndex: 97032 entries, 0 to 97031\n",
      "Data columns (total 20 columns):\n",
      " #   Column                                                                 Non-Null Count  Dtype \n",
      "---  ------                                                                 --------------  ----- \n",
      " 0   5 Digit NTD ID                                                         97032 non-null  int64 \n",
      " 1   Agency                                                                 97032 non-null  object\n",
      " 2   Mode                                                                   97032 non-null  object\n",
      " 3   Type of Service                                                        97032 non-null  object\n",
      " 4   Month                                                                  97032 non-null  object\n",
      " 5   Year                                                                   97032 non-null  int64 \n",
      " 6   Safety/Security                                                        97032 non-null  object\n",
      " 7   Event Type                                                             97032 non-null  object\n",
      " 8   Location                                                               93119 non-null  object\n",
      " 9   Location Group                                                         97032 non-null  object\n",
      " 10  Physical Assaults on Operators (Security Events Only)                  97032 non-null  int64 \n",
      " 11  Non-Physical Assaults on Operators (Security Events Only)              97032 non-null  int64 \n",
      " 12  Physical Assaults on Other Transit Workers (Security Events Only)      97032 non-null  int64 \n",
      " 13  Non-Physical Assaults on Other Transit Workers (Security Events Only)  97032 non-null  int64 \n",
      " 14  Additional Assault Information                                         1012 non-null   object\n",
      " 15  Total Events                                                           97032 non-null  object\n",
      " 16  Customer Injuries (Safety Events Only)                                 97032 non-null  int64 \n",
      " 17  Worker Injuries (Safety Events Only)                                   97032 non-null  int64 \n",
      " 18  Other Injuries (Safety Events Only)                                    97032 non-null  int64 \n",
      " 19  Total Injuries (Safety Events Only)                                    97032 non-null  int64 \n",
      "dtypes: int64(10), object(10)\n",
      "memory usage: 14.8+ MB\n"
     ]
    },
    {
     "name": "stderr",
     "output_type": "stream",
     "text": [
      "/var/folders/0c/8jgwlmw579z5xqz61k4vsvcm0000gp/T/ipykernel_23659/3544845961.py:1: DtypeWarning: Columns (14,15) have mixed types. Specify dtype option on import or set low_memory=False.\n",
      "  raw_dat = pd.read_csv(\"../data dump/Safety_and_Security_Raw.csv\", sep=',')\n"
     ]
    }
   ],
   "source": [
    "raw_dat = pd.read_csv(\"../data dump/NonMajor_Safety_Raw.csv\", sep=',')\n",
    "raw_dat.info()"
   ]
  },
  {
   "cell_type": "markdown",
   "metadata": {},
   "source": [
    "`Additional Assault Information` is free-form input, which is not useful. We can get rid of that one. We also only have information of the capital expenditures for 2016 to 2022, so we only need to isolate those years."
   ]
  },
  {
   "cell_type": "code",
   "execution_count": 43,
   "metadata": {},
   "outputs": [],
   "source": [
    "raw_dat = raw_dat.drop(columns=['Additional Assault Information'])\n",
    "raw_dat = raw_dat[(2016 <= raw_dat['Year']) & (raw_dat['Year'] <= 2022)]"
   ]
  },
  {
   "cell_type": "code",
   "execution_count": 44,
   "metadata": {},
   "outputs": [
    {
     "name": "stdout",
     "output_type": "stream",
     "text": [
      "<class 'pandas.core.frame.DataFrame'>\n",
      "Index: 31838 entries, 11824 to 43661\n",
      "Data columns (total 19 columns):\n",
      " #   Column                                                                 Non-Null Count  Dtype \n",
      "---  ------                                                                 --------------  ----- \n",
      " 0   5 Digit NTD ID                                                         31838 non-null  int64 \n",
      " 1   Agency                                                                 31838 non-null  object\n",
      " 2   Mode                                                                   31838 non-null  object\n",
      " 3   Type of Service                                                        31838 non-null  object\n",
      " 4   Month                                                                  31838 non-null  object\n",
      " 5   Year                                                                   31838 non-null  int64 \n",
      " 6   Safety/Security                                                        31838 non-null  object\n",
      " 7   Event Type                                                             31838 non-null  object\n",
      " 8   Location                                                               31838 non-null  object\n",
      " 9   Location Group                                                         31838 non-null  object\n",
      " 10  Physical Assaults on Operators (Security Events Only)                  31838 non-null  int64 \n",
      " 11  Non-Physical Assaults on Operators (Security Events Only)              31838 non-null  int64 \n",
      " 12  Physical Assaults on Other Transit Workers (Security Events Only)      31838 non-null  int64 \n",
      " 13  Non-Physical Assaults on Other Transit Workers (Security Events Only)  31838 non-null  int64 \n",
      " 14  Total Events                                                           31838 non-null  object\n",
      " 15  Customer Injuries (Safety Events Only)                                 31838 non-null  int64 \n",
      " 16  Worker Injuries (Safety Events Only)                                   31838 non-null  int64 \n",
      " 17  Other Injuries (Safety Events Only)                                    31838 non-null  int64 \n",
      " 18  Total Injuries (Safety Events Only)                                    31838 non-null  int64 \n",
      "dtypes: int64(10), object(9)\n",
      "memory usage: 4.9+ MB\n"
     ]
    }
   ],
   "source": [
    "raw_dat.info()"
   ]
  },
  {
   "cell_type": "markdown",
   "metadata": {},
   "source": [
    "We are aggregating over the full years, so we can ignore the `Month` field, and we can also ignore `Type of Service`, since we are looking at transit agencies themselves, not the detailed specifics of the services they offer. We can also get rid of the `Location` category, since the `Location Group` includes broad details of the categories of the incident locations anyway."
   ]
  },
  {
   "cell_type": "code",
   "execution_count": 45,
   "metadata": {},
   "outputs": [
    {
     "name": "stdout",
     "output_type": "stream",
     "text": [
      "<class 'pandas.core.frame.DataFrame'>\n",
      "Index: 31838 entries, 11824 to 43661\n",
      "Data columns (total 16 columns):\n",
      " #   Column                                                                 Non-Null Count  Dtype \n",
      "---  ------                                                                 --------------  ----- \n",
      " 0   5 Digit NTD ID                                                         31838 non-null  int64 \n",
      " 1   Agency                                                                 31838 non-null  object\n",
      " 2   Mode                                                                   31838 non-null  object\n",
      " 3   Year                                                                   31838 non-null  int64 \n",
      " 4   Safety/Security                                                        31838 non-null  object\n",
      " 5   Event Type                                                             31838 non-null  object\n",
      " 6   Location Group                                                         31838 non-null  object\n",
      " 7   Physical Assaults on Operators (Security Events Only)                  31838 non-null  int64 \n",
      " 8   Non-Physical Assaults on Operators (Security Events Only)              31838 non-null  int64 \n",
      " 9   Physical Assaults on Other Transit Workers (Security Events Only)      31838 non-null  int64 \n",
      " 10  Non-Physical Assaults on Other Transit Workers (Security Events Only)  31838 non-null  int64 \n",
      " 11  Total Events                                                           31838 non-null  object\n",
      " 12  Customer Injuries (Safety Events Only)                                 31838 non-null  int64 \n",
      " 13  Worker Injuries (Safety Events Only)                                   31838 non-null  int64 \n",
      " 14  Other Injuries (Safety Events Only)                                    31838 non-null  int64 \n",
      " 15  Total Injuries (Safety Events Only)                                    31838 non-null  int64 \n",
      "dtypes: int64(10), object(6)\n",
      "memory usage: 4.1+ MB\n"
     ]
    }
   ],
   "source": [
    "raw_dat = raw_dat.drop(columns=['Month', 'Type of Service', 'Location', 'Location'])\n",
    "raw_dat.info()"
   ]
  },
  {
   "cell_type": "markdown",
   "metadata": {},
   "source": [
    "Based on the kind of data we want to use with the NTD data, keeping the `Event Type`, `Location Group`, and `Safety/Security` just gets in the way, since we want to aggregate the bulk numbers across the agencies. We also drop the `Agency` column, since the ID gets us there already."
   ]
  },
  {
   "cell_type": "code",
   "execution_count": 46,
   "metadata": {},
   "outputs": [],
   "source": [
    "raw_dat = raw_dat.drop(columns=['Safety/Security', 'Event Type', 'Location Group', 'Agency'])"
   ]
  },
  {
   "cell_type": "markdown",
   "metadata": {},
   "source": [
    "These entries are by month, so we need to group them by year and transit agency. The agencies have names, but even better, they have unique numeric identifiers. In addition, we need to group these by year."
   ]
  },
  {
   "cell_type": "code",
   "execution_count": 47,
   "metadata": {},
   "outputs": [],
   "source": [
    "dat_grouped = raw_dat.groupby(by = ['5 Digit NTD ID', 'Mode', 'Year'])"
   ]
  },
  {
   "cell_type": "code",
   "execution_count": 48,
   "metadata": {},
   "outputs": [
    {
     "data": {
      "text/html": [
       "<div>\n",
       "<style scoped>\n",
       "    .dataframe tbody tr th:only-of-type {\n",
       "        vertical-align: middle;\n",
       "    }\n",
       "\n",
       "    .dataframe tbody tr th {\n",
       "        vertical-align: top;\n",
       "    }\n",
       "\n",
       "    .dataframe thead th {\n",
       "        text-align: right;\n",
       "    }\n",
       "</style>\n",
       "<table border=\"1\" class=\"dataframe\">\n",
       "  <thead>\n",
       "    <tr style=\"text-align: right;\">\n",
       "      <th></th>\n",
       "      <th>5 Digit NTD ID</th>\n",
       "      <th>Mode</th>\n",
       "      <th>Year</th>\n",
       "      <th>Physical Assaults on Operators (Security Events Only)</th>\n",
       "      <th>Non-Physical Assaults on Operators (Security Events Only)</th>\n",
       "      <th>Physical Assaults on Other Transit Workers (Security Events Only)</th>\n",
       "      <th>Non-Physical Assaults on Other Transit Workers (Security Events Only)</th>\n",
       "      <th>Total Events</th>\n",
       "      <th>Customer Injuries (Safety Events Only)</th>\n",
       "      <th>Worker Injuries (Safety Events Only)</th>\n",
       "      <th>Other Injuries (Safety Events Only)</th>\n",
       "      <th>Total Injuries (Safety Events Only)</th>\n",
       "    </tr>\n",
       "  </thead>\n",
       "  <tbody>\n",
       "    <tr>\n",
       "      <th>3550</th>\n",
       "      <td>90175</td>\n",
       "      <td>MB</td>\n",
       "      <td>2017</td>\n",
       "      <td>0</td>\n",
       "      <td>0</td>\n",
       "      <td>0</td>\n",
       "      <td>0</td>\n",
       "      <td>1</td>\n",
       "      <td>1</td>\n",
       "      <td>0</td>\n",
       "      <td>0</td>\n",
       "      <td>1</td>\n",
       "    </tr>\n",
       "    <tr>\n",
       "      <th>1224</th>\n",
       "      <td>40003</td>\n",
       "      <td>MB</td>\n",
       "      <td>2020</td>\n",
       "      <td>0</td>\n",
       "      <td>0</td>\n",
       "      <td>0</td>\n",
       "      <td>0</td>\n",
       "      <td>12</td>\n",
       "      <td>11</td>\n",
       "      <td>0</td>\n",
       "      <td>0</td>\n",
       "      <td>11</td>\n",
       "    </tr>\n",
       "    <tr>\n",
       "      <th>3625</th>\n",
       "      <td>90233</td>\n",
       "      <td>MB</td>\n",
       "      <td>2022</td>\n",
       "      <td>0</td>\n",
       "      <td>0</td>\n",
       "      <td>0</td>\n",
       "      <td>0</td>\n",
       "      <td>8</td>\n",
       "      <td>3</td>\n",
       "      <td>5</td>\n",
       "      <td>0</td>\n",
       "      <td>8</td>\n",
       "    </tr>\n",
       "    <tr>\n",
       "      <th>2864</th>\n",
       "      <td>70014</td>\n",
       "      <td>DR</td>\n",
       "      <td>2017</td>\n",
       "      <td>0</td>\n",
       "      <td>0</td>\n",
       "      <td>0</td>\n",
       "      <td>0</td>\n",
       "      <td>1</td>\n",
       "      <td>1</td>\n",
       "      <td>0</td>\n",
       "      <td>0</td>\n",
       "      <td>1</td>\n",
       "    </tr>\n",
       "    <tr>\n",
       "      <th>339</th>\n",
       "      <td>10004</td>\n",
       "      <td>MB</td>\n",
       "      <td>2018</td>\n",
       "      <td>0</td>\n",
       "      <td>0</td>\n",
       "      <td>0</td>\n",
       "      <td>0</td>\n",
       "      <td>4</td>\n",
       "      <td>3</td>\n",
       "      <td>1</td>\n",
       "      <td>0</td>\n",
       "      <td>4</td>\n",
       "    </tr>\n",
       "    <tr>\n",
       "      <th>3413</th>\n",
       "      <td>90090</td>\n",
       "      <td>MB</td>\n",
       "      <td>2018</td>\n",
       "      <td>0</td>\n",
       "      <td>0</td>\n",
       "      <td>0</td>\n",
       "      <td>0</td>\n",
       "      <td>5</td>\n",
       "      <td>5</td>\n",
       "      <td>0</td>\n",
       "      <td>0</td>\n",
       "      <td>5</td>\n",
       "    </tr>\n",
       "    <tr>\n",
       "      <th>531</th>\n",
       "      <td>10128</td>\n",
       "      <td>MB</td>\n",
       "      <td>2020</td>\n",
       "      <td>0</td>\n",
       "      <td>0</td>\n",
       "      <td>0</td>\n",
       "      <td>0</td>\n",
       "      <td>3</td>\n",
       "      <td>3</td>\n",
       "      <td>0</td>\n",
       "      <td>0</td>\n",
       "      <td>3</td>\n",
       "    </tr>\n",
       "  </tbody>\n",
       "</table>\n",
       "</div>"
      ],
      "text/plain": [
       "      5 Digit NTD ID Mode  Year  \\\n",
       "3550           90175   MB  2017   \n",
       "1224           40003   MB  2020   \n",
       "3625           90233   MB  2022   \n",
       "2864           70014   DR  2017   \n",
       "339            10004   MB  2018   \n",
       "3413           90090   MB  2018   \n",
       "531            10128   MB  2020   \n",
       "\n",
       "      Physical Assaults on Operators (Security Events Only)  \\\n",
       "3550                                                  0       \n",
       "1224                                                  0       \n",
       "3625                                                  0       \n",
       "2864                                                  0       \n",
       "339                                                   0       \n",
       "3413                                                  0       \n",
       "531                                                   0       \n",
       "\n",
       "      Non-Physical Assaults on Operators (Security Events Only)  \\\n",
       "3550                                                  0           \n",
       "1224                                                  0           \n",
       "3625                                                  0           \n",
       "2864                                                  0           \n",
       "339                                                   0           \n",
       "3413                                                  0           \n",
       "531                                                   0           \n",
       "\n",
       "      Physical Assaults on Other Transit Workers (Security Events Only)  \\\n",
       "3550                                                  0                   \n",
       "1224                                                  0                   \n",
       "3625                                                  0                   \n",
       "2864                                                  0                   \n",
       "339                                                   0                   \n",
       "3413                                                  0                   \n",
       "531                                                   0                   \n",
       "\n",
       "      Non-Physical Assaults on Other Transit Workers (Security Events Only)  \\\n",
       "3550                                                  0                       \n",
       "1224                                                  0                       \n",
       "3625                                                  0                       \n",
       "2864                                                  0                       \n",
       "339                                                   0                       \n",
       "3413                                                  0                       \n",
       "531                                                   0                       \n",
       "\n",
       "     Total Events  Customer Injuries (Safety Events Only)  \\\n",
       "3550            1                                       1   \n",
       "1224           12                                      11   \n",
       "3625            8                                       3   \n",
       "2864            1                                       1   \n",
       "339             4                                       3   \n",
       "3413            5                                       5   \n",
       "531             3                                       3   \n",
       "\n",
       "      Worker Injuries (Safety Events Only)  \\\n",
       "3550                                     0   \n",
       "1224                                     0   \n",
       "3625                                     5   \n",
       "2864                                     0   \n",
       "339                                      1   \n",
       "3413                                     0   \n",
       "531                                      0   \n",
       "\n",
       "      Other Injuries (Safety Events Only)  Total Injuries (Safety Events Only)  \n",
       "3550                                    0                                    1  \n",
       "1224                                    0                                   11  \n",
       "3625                                    0                                    8  \n",
       "2864                                    0                                    1  \n",
       "339                                     0                                    4  \n",
       "3413                                    0                                    5  \n",
       "531                                     0                                    3  "
      ]
     },
     "execution_count": 48,
     "metadata": {},
     "output_type": "execute_result"
    }
   ],
   "source": [
    "agg_safety = dat_grouped.sum().reset_index()\n",
    "agg_safety.sample(7)"
   ]
  },
  {
   "cell_type": "code",
   "execution_count": 49,
   "metadata": {},
   "outputs": [
    {
     "name": "stdout",
     "output_type": "stream",
     "text": [
      "<class 'pandas.core.frame.DataFrame'>\n",
      "RangeIndex: 3677 entries, 0 to 3676\n",
      "Data columns (total 12 columns):\n",
      " #   Column                                                                 Non-Null Count  Dtype \n",
      "---  ------                                                                 --------------  ----- \n",
      " 0   5 Digit NTD ID                                                         3677 non-null   int64 \n",
      " 1   Mode                                                                   3677 non-null   object\n",
      " 2   Year                                                                   3677 non-null   int64 \n",
      " 3   Physical Assaults on Operators (Security Events Only)                  3677 non-null   int64 \n",
      " 4   Non-Physical Assaults on Operators (Security Events Only)              3677 non-null   int64 \n",
      " 5   Physical Assaults on Other Transit Workers (Security Events Only)      3677 non-null   int64 \n",
      " 6   Non-Physical Assaults on Other Transit Workers (Security Events Only)  3677 non-null   int64 \n",
      " 7   Total Events                                                           3677 non-null   object\n",
      " 8   Customer Injuries (Safety Events Only)                                 3677 non-null   int64 \n",
      " 9   Worker Injuries (Safety Events Only)                                   3677 non-null   int64 \n",
      " 10  Other Injuries (Safety Events Only)                                    3677 non-null   int64 \n",
      " 11  Total Injuries (Safety Events Only)                                    3677 non-null   int64 \n",
      "dtypes: int64(10), object(2)\n",
      "memory usage: 344.8+ KB\n"
     ]
    }
   ],
   "source": [
    "agg_safety.info()"
   ]
  },
  {
   "cell_type": "markdown",
   "metadata": {},
   "source": [
    "One can verify that the \"Security Events\" columns are all zero, and so we will remove them from the data to be analyzed, since they provide no information."
   ]
  },
  {
   "cell_type": "code",
   "execution_count": 51,
   "metadata": {},
   "outputs": [
    {
     "name": "stdout",
     "output_type": "stream",
     "text": [
      "<class 'pandas.core.frame.DataFrame'>\n",
      "RangeIndex: 3677 entries, 0 to 3676\n",
      "Data columns (total 8 columns):\n",
      " #   Column                                  Non-Null Count  Dtype \n",
      "---  ------                                  --------------  ----- \n",
      " 0   5 Digit NTD ID                          3677 non-null   int64 \n",
      " 1   Mode                                    3677 non-null   object\n",
      " 2   Year                                    3677 non-null   int64 \n",
      " 3   Total Events                            3677 non-null   object\n",
      " 4   Customer Injuries (Safety Events Only)  3677 non-null   int64 \n",
      " 5   Worker Injuries (Safety Events Only)    3677 non-null   int64 \n",
      " 6   Other Injuries (Safety Events Only)     3677 non-null   int64 \n",
      " 7   Total Injuries (Safety Events Only)     3677 non-null   int64 \n",
      "dtypes: int64(6), object(2)\n",
      "memory usage: 229.9+ KB\n"
     ]
    }
   ],
   "source": [
    "agg_safety.drop(columns=agg_safety.columns[3:7], inplace=True)\n",
    "agg_safety.info()"
   ]
  },
  {
   "cell_type": "code",
   "execution_count": 53,
   "metadata": {},
   "outputs": [
    {
     "name": "stdout",
     "output_type": "stream",
     "text": [
      "<class 'pandas.core.frame.DataFrame'>\n",
      "RangeIndex: 3677 entries, 0 to 3676\n",
      "Data columns (total 8 columns):\n",
      " #   Column                 Non-Null Count  Dtype \n",
      "---  ------                 --------------  ----- \n",
      " 0   NTD ID                 3677 non-null   int64 \n",
      " 1   Mode                   3677 non-null   object\n",
      " 2   Year                   3677 non-null   int64 \n",
      " 3   Total Minor Incidents  3677 non-null   int64 \n",
      " 4   Customer Injuries      3677 non-null   int64 \n",
      " 5   Worker Injuries        3677 non-null   int64 \n",
      " 6   Other Injuries         3677 non-null   int64 \n",
      " 7   Total Injuries         3677 non-null   int64 \n",
      "dtypes: int64(7), object(1)\n",
      "memory usage: 229.9+ KB\n"
     ]
    }
   ],
   "source": [
    "# Rename the columns for easier access.\n",
    "agg_safety.columns = ['NTD ID', 'Mode', 'Year', 'Total Minor Incidents', 'Customer Injuries',\n",
    "                      'Worker Injuries', 'Other Injuries', 'Total Injuries']\n",
    "agg_safety['Total Minor Incidents'] = agg_safety['Total Minor Incidents'].astype('int64')\n",
    "agg_safety.info()"
   ]
  },
  {
   "cell_type": "code",
   "execution_count": 54,
   "metadata": {},
   "outputs": [],
   "source": [
    "agg_safety.to_csv('../data/NTD_NonMajor_Safety_Incidents.csv', index=False)"
   ]
  }
 ],
 "metadata": {
  "kernelspec": {
   "display_name": ".venv",
   "language": "python",
   "name": "python3"
  },
  "language_info": {
   "codemirror_mode": {
    "name": "ipython",
    "version": 3
   },
   "file_extension": ".py",
   "mimetype": "text/x-python",
   "name": "python",
   "nbconvert_exporter": "python",
   "pygments_lexer": "ipython3",
   "version": "3.12.7"
  }
 },
 "nbformat": 4,
 "nbformat_minor": 2
}
